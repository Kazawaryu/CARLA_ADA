{
 "cells": [
  {
   "cell_type": "code",
   "execution_count": 2,
   "metadata": {},
   "outputs": [],
   "source": [
    "time_dirc = '1020_2034'\n",
    "\n",
    "sem_pt_path = '/home/ghosnp/project/fix_space/origin/carla_dataset_tools/raw_data/record_2023_'+time_dirc+'/vehicle.tesla.model3.master/velodyne_semantic/'\n",
    "image_path = '/home/ghosnp/project/fix_space/origin/carla_dataset_tools/raw_data/record_2023_'+time_dirc+'/vehicle.tesla.model3.master/image_2/'\n",
    "save_path = '/home/ghosnp/project/fix_space/origin/carla_dataset_tools/raw_data/record_2023_'+time_dirc+'/vehicle.tesla.model3.master/vis_s2_score/'\n",
    "# read the txt in sem_pt_path, draw the last float in last line into the same frame in image_path\n",
    "\n",
    "import os\n",
    "import cv2\n",
    "# create save_path if not exist\n",
    "if not os.path.exists(save_path):\n",
    "    os.makedirs(save_path)\n",
    "\n",
    "# get the file list in sem_pt_path, end with .txt\n",
    "file_list = os.listdir(sem_pt_path)\n",
    "file_list = [f for f in file_list if f.endswith('.txt')]\n",
    "file_list.sort()\n",
    "\n",
    "# get the file list in image_path, same frame with sem_pt_path\n",
    "image_list = os.listdir(image_path)\n",
    "image_list = [f for f in image_list if f.endswith('.png')]\n",
    "image_list.sort()\n",
    "# filiter the image_list, drop the file that not in sem_pt_path\n",
    "image_list = [f for f in image_list if f[:-4]+'.txt' in file_list]\n",
    "\n",
    "# read the file in sem_pt_path, get the last float in last line\n",
    "for file in file_list:\n",
    "    with open(sem_pt_path+file, 'r') as f:\n",
    "        lines = f.readlines()\n",
    "        last_line = lines[-1]\n",
    "        score = last_line.split(' ')[-1]\n",
    "        score = float(score)\n",
    "        # print(score)\n",
    "    # draw the score in the same frame in image_path\n",
    "    image_name = file[:-4]+'.png'\n",
    "    image = cv2.imread(image_path+image_name)\n",
    "    image = cv2.putText(image, \"S2:\"+str(score), (100, 100), cv2.FONT_HERSHEY_SIMPLEX, 1, (0, 255, 0), 2)\n",
    "    cv2.imwrite(save_path+image_name, image)\n",
    "    # print(image_name)\n"
   ]
  }
 ],
 "metadata": {
  "kernelspec": {
   "display_name": "carla38",
   "language": "python",
   "name": "python3"
  },
  "language_info": {
   "codemirror_mode": {
    "name": "ipython",
    "version": 3
   },
   "file_extension": ".py",
   "mimetype": "text/x-python",
   "name": "python",
   "nbconvert_exporter": "python",
   "pygments_lexer": "ipython3",
   "version": "3.8.18"
  }
 },
 "nbformat": 4,
 "nbformat_minor": 2
}
