{
 "cells": [
  {
   "cell_type": "code",
   "execution_count": 127,
   "metadata": {},
   "outputs": [],
   "source": [
    "import os\n",
    "import numpy as np\n",
    "import pandas as pd\n",
    "import seaborn as sns\n",
    "import matplotlib.pyplot as plt\n",
    "import random\n",
    "from sklearn.ensemble import GradientBoostingRegressor\n",
    "from sklearn.model_selection import train_test_split\n",
    "from sklearn.metrics import mean_squared_error, mean_absolute_error, r2_score\n",
    "\n",
    "set_label = ['50-25','75-37','100-50','125-67','150-75']\n",
    "set_A_05 = ['1226_1700', '1226_1713', '1226_1727', '1226_1741', '1226_1756']\n",
    "set_B_02 = ['0104_2223', '0104_2309', '0104_2328', '0104_2343', '0105_0013']\n",
    "set_C_10 = ['0116_0117', '0116_0125', '0116_0132', '0116_0140', '0116_0149']\n",
    "set_D_06 = ['0104_1949', '0104_2002', '0104_2016', '0104_2032', '0104_2056']\n",
    "\n",
    "selected_set = set_C_10\n",
    "set_name = './imagesets/B_S1_0.08.txt'\n",
    "mertic = 7.5\n",
    "mertic2 = 4.0\n",
    "\n",
    "random.seed(114)\n",
    "# B:8.04% -> 1.1\n",
    "# D:9.15% -> 0.8"
   ]
  },
  {
   "cell_type": "code",
   "execution_count": 109,
   "metadata": {},
   "outputs": [],
   "source": [
    "# df = pd.read_csv(s1s2_path)\n",
    "# X = np.array([df['scan_enp'], df['bev_enp']]).T\n",
    "# y = np.array(df['s1_gt'])\n",
    "\n",
    "# X_train, X_test, y_train, y_test = train_test_split(X, y, test_size=0.8, random_state=42)\n",
    "\n",
    "def evaluate_regression(y_test, y_pred):\n",
    "    mse = mean_squared_error(y_test, y_pred)\n",
    "    rmse = mean_squared_error(y_test, y_pred, squared=False)\n",
    "    mae = mean_absolute_error(y_test, y_pred)\n",
    "    r2 = r2_score(y_test, y_pred)\n",
    "    \n",
    "    return mse, rmse, mae, r2"
   ]
  },
  {
   "cell_type": "code",
   "execution_count": 110,
   "metadata": {},
   "outputs": [],
   "source": [
    "idx, scan_entropy_list, bev_entropy_list, pf_scalar_list, pf_vector_list, s1_gt =[], [], [], [], [], []\n",
    "empty_file = []\n",
    "sub_cnt = 0\n",
    "for time_dirc in selected_set:\n",
    "    sem_pt_path = '/home/newDisk/tool/carla_dataset_tool/raw_data/record_2024_'+time_dirc+'/vehicle.tesla.model3.master/velodyne_semantic/'\n",
    "    file_list = os.listdir(sem_pt_path)\n",
    "    file_list = [f for f in file_list if f.endswith('.txt')]\n",
    "    file_list.sort()\n",
    "\n",
    "    for file_name in file_list:\n",
    "        gt = 0\n",
    "        with open(sem_pt_path+file_name, 'r') as f:\n",
    "            lines = f.readlines()\n",
    "            last_line = lines[-1]\n",
    "            if len(lines) ==1:\n",
    "                empty_file.append(str(sub_cnt)+file_name[-9:-4])\n",
    "            else:\n",
    "                scores = last_line.split(' ')\n",
    "                s1_gt.append(scores[0])\n",
    "                scan_entropy_list.append(np.float64(scores[1]))\n",
    "                bev_entropy_list.append(np.float64(scores[2]))\n",
    "                pf_scalar_list.append(np.float64(scores[3]))\n",
    "                pf_vector_list.append(np.float64(scores[4].replace('\\n','')))\n",
    "                idx.append(str(sub_cnt)+file_name[-9:-4])\n",
    "\n",
    "    sub_cnt += 1\n"
   ]
  },
  {
   "cell_type": "code",
   "execution_count": 111,
   "metadata": {},
   "outputs": [
    {
     "data": {
      "text/plain": [
       "4008"
      ]
     },
     "execution_count": 111,
     "metadata": {},
     "output_type": "execute_result"
    }
   ],
   "source": [
    "len(scan_entropy_list)"
   ]
  },
  {
   "cell_type": "code",
   "execution_count": 112,
   "metadata": {},
   "outputs": [
    {
     "data": {
      "text/plain": [
       "array(['434279', '436040', '019625', '018119', '332608', '017690',\n",
       "       '435809', '019808', '017870', '436175', '124144', '331435',\n",
       "       '433742', '434456', '332239', '227065', '123973', '124510',\n",
       "       '018257', '019154', '125680', '019121', '434186', '227152',\n",
       "       '124720', '125170', '228955', '435209', '227845', '125233',\n",
       "       '124180', '330673', '435821', '331648', '124804', '228286',\n",
       "       '434102', '125668', '124114', '125239', '331549', '330139',\n",
       "       '123364', '332254', '331957', '330514', '019919', '330766',\n",
       "       '018311', '019865', '436334', '435164', '123976', '434417',\n",
       "       '229132', '331615', '124156', '123703', '228097', '123694',\n",
       "       '330454', '124012', '332695', '125080', '331483', '331654',\n",
       "       '332026', '433748', '434969', '332236', '123145', '018032',\n",
       "       '436133', '020222', '331003', '019820', '435728', '229303',\n",
       "       '018401', '017825', '229273', '018800', '434222', '228307',\n",
       "       '331990', '435539', '018803', '124642', '434018', '227299',\n",
       "       '019448', '227953', '124423', '227041', '020303', '434576',\n",
       "       '435995', '228736', '125263', '017684', '434723', '330781',\n",
       "       '434135', '228058', '434270', '123436', '125344', '123874',\n",
       "       '331015', '228352', '331570', '229309', '227266', '019694',\n",
       "       '331081', '331915', '019853', '018851', '332260', '125158',\n",
       "       '125584', '020147', '332845', '019517', '017945', '018866',\n",
       "       '331918', '125509', '331723', '330565', '436118', '017867',\n",
       "       '331354', '434738', '227863', '019928', '330163', '434021',\n",
       "       '125524', '017609', '229129', '018461', '123706', '124087',\n",
       "       '124882', '435599', '435557', '330868', '435161', '125335',\n",
       "       '229078', '330865', '434429', '125701', '020237', '228250',\n",
       "       '123181', '019112', '228556', '226921', '018617', '331174',\n",
       "       '331981', '019169', '124591', '123550', '331105', '435596',\n",
       "       '435578', '331084', '433769', '332791', '434408', '436319',\n",
       "       '226915', '330295', '226930', '227827', '018680', '435770',\n",
       "       '434024', '124474', '125539', '019274', '228961', '229234',\n",
       "       '229360', '228436', '331546', '124210', '435044', '331855',\n",
       "       '123376', '226888', '228052', '123529', '332170', '123784',\n",
       "       '435014', '434120', '330886', '436016', '123493', '125677',\n",
       "       '018062', '332263', '435473', '331390', '331168', '019397',\n",
       "       '125005', '019778', '124165', '434081', '123184', '433877',\n",
       "       '019079', '019304', '123931', '123865', '331204', '019160',\n",
       "       '019568', '434453', '125629', '123541', '227401', '123958',\n",
       "       '331171', '435584', '017951', '019889', '435374', '227530',\n",
       "       '123751', '227005', '020162', '017960', '019637', '435248',\n",
       "       '435092', '436085', '019574', '018719', '018413', '330760',\n",
       "       '331618', '331270', '331408', '017717', '434384', '435437',\n",
       "       '123478', '123121', '019988', '124186', '123886', '017585',\n",
       "       '331828', '125419', '332188', '228574', '331795', '435848',\n",
       "       '229270', '331825', '123739', '020183', '019712', '125785',\n",
       "       '228844', '434351', '330457', '228880', '228220', '123952',\n",
       "       '332821', '019379', '017747', '020243', '227554', '330979',\n",
       "       '227047', '020171', '434402', '123853', '124009', '229351',\n",
       "       '227308', '123418', '330754', '018812', '330205', '228901',\n",
       "       '017633', '019721', '017681', '331519', '435683', '331285',\n",
       "       '019196', '229162', '123262', '227107', '227260', '019235',\n",
       "       '331075', '125755', '436076', '332146', '332779', '018344',\n",
       "       '434648', '332389', '020024', '124783', '229408', '018065',\n",
       "       '331699', '125698', '331369', '434132', '019544', '330853',\n",
       "       '435863', '124582', '019361', '436088', '226828', '227023',\n",
       "       '227812', '017984', '434240', '434033', '436274', '227629',\n",
       "       '331594', '123445', '436262', '018179', '123925', '123481',\n",
       "       '019766', '435287', '019487', '018149', '018512', '330157',\n",
       "       '435395', '435440', '123688', '435644', '435869', '330232',\n",
       "       '436322', '123715', '229369', '228244', '124258', '332761',\n",
       "       '017624', '332176', '436283', '019262', '019643', '435140',\n",
       "       '331897', '435269', '125116', '123382', '331444', '228751',\n",
       "       '020063', '434096', '018284', '227839', '434114', '226972',\n",
       "       '229252', '436211', '434438', '228472', '227872', '125719',\n",
       "       '331048', '123640', '434468', '019025', '123367', '436271',\n",
       "       '330859', '435890', '019586', '435449', '124183', '123982',\n",
       "       '124801', '435176', '125194', '436046', '124435', '435827',\n",
       "       '331201', '125443', '018083', '125752', '123373', '332734',\n",
       "       '331267', '436007', '123124', '227365', '331552', '227242',\n",
       "       '228229', '017894', '435674', '330199', '332413', '433790',\n",
       "       '018368', '017909', '124897', '124891', '125578', '019415',\n",
       "       '019550', '125728', '332437', '227920', '228226', '018824',\n",
       "       '123970', '228403', '331249', '125686', '332374', '435590',\n",
       "       '227785', '331876', '435740', '332140', '018974', '228544',\n",
       "       '124519', '331501', '227764', '123133', '435251', '436025',\n",
       "       '019538', '228976', '435416', '226936', '018395', '125536',\n",
       "       '434162', '124876', '228223', '227515', '229357', '226981',\n",
       "       '019589', '436316', '228952', '330400', '435686', '227485',\n",
       "       '331597', '019082', '227113', '226735', '331399', '332683',\n",
       "       '018041', '125215', '227566', '124654', '229147', '436106',\n",
       "       '331675', '331090', '019646', '226957', '434381', '229330',\n",
       "       '434252', '018167', '123949', '433667', '019493', '228202',\n",
       "       '331054', '435068', '227398', '331762', '018200', '435365',\n",
       "       '331462', '228739', '018488', '019967', '018815', '017969',\n",
       "       '332803', '018215', '434840', '020177', '228523', '124879',\n",
       "       '226732', '125725', '436067', '125761', '436001', '123967',\n",
       "       '125620', '434690', '229093', '435617', '226834', '020246',\n",
       "       '125401', '228442', '019592', '017576', '228109', '019763',\n",
       "       '436109', '331666', '435410', '125542', '332416', '434588',\n",
       "       '434585', '435065', '124408', '435782', '229264', '125173',\n",
       "       '227143', '123916', '433862', '435953', '125527', '435572',\n",
       "       '434465', '227602', '019658', '019718', '124300', '435665',\n",
       "       '435587', '018563', '019613', '124864', '125041', '019796',\n",
       "       '434420', '124381', '226873', '123421', '330655', '330670',\n",
       "       '124456', '124756', '124780', '433784', '228346', '433856',\n",
       "       '125092', '434378', '227731', '125200', '125626', '124609',\n",
       "       '436055', '436139', '435203', '125563', '123658', '020057',\n",
       "       '330730', '331858', '125425', '330418', '330841', '330481',\n",
       "       '227035', '332326', '433898', '125806', '124060', '330307',\n",
       "       '123685', '019244', '332758', '125674', '331045', '435917',\n",
       "       '434708', '229393', '226822', '227377', '017885', '123565',\n",
       "       '019316', '433892', '331027', '020276', '435260', '435629',\n",
       "       '125056', '331486', '435197', '227233', '123619', '018227',\n",
       "       '018791', '331183', '020297', '018806', '331099', '435884',\n",
       "       '433751', '123589', '330721', '125059', '330598', '435773',\n",
       "       '123385', '125341', '330976', '227275', '330847', '228067',\n",
       "       '020084', '226798', '435257', '229159', '019130', '332173',\n",
       "       '332128', '331600', '020006', '227173', '018209', '228175',\n",
       "       '332107', '227881', '331891', '228475', '435002', '226963',\n",
       "       '018746', '228769', '018869', '125734', '018788', '330529',\n",
       "       '125179', '123997', '332218', '125089', '330736', '227698',\n",
       "       '123964', '124648', '330292', '017792', '227803', '124051',\n",
       "       '332152', '019100', '018749', '228340', '019958', '228433',\n",
       "       '020045', '123736', '123127', '018623', '435803', '330958',\n",
       "       '435731', '228808', '435662', '123553', '124360', '435737',\n",
       "       '434912', '018983', '434078', '020117', '228685', '123490',\n",
       "       '227551', '018212', '018086', '125371', '330988', '229144',\n",
       "       '019775', '125104', '436022', '435872', '123895', '330445',\n",
       "       '434597', '123568', '331936', '434591', '125389', '227473',\n",
       "       '332278', '228397', '017678', '019994', '330193', '434777',\n",
       "       '125038', '331678', '124726', '228046', '124636', '331504',\n",
       "       '330442', '434372', '331129', '227740', '018332', '227800',\n",
       "       '228886', '019466', '229102', '124426', '228277', '331324',\n",
       "       '227821', '019607', '436013', '434987', '332623', '125197',\n",
       "       '331297', '124330', '435236', '227287', '019313', '436220',\n",
       "       '330856', '331684', '018176', '226993', '123430', '330895',\n",
       "       '434960', '227758', '435602', '330202', '123754', '019040',\n",
       "       '435218', '331378', '019910', '228541', '017639', '434210',\n",
       "       '018995', '124063', '228727', '123370', '124174', '229096',\n",
       "       '331216', '434729', '125155', '228970', '019976', '434195',\n",
       "       '125695', '017993', '435542', '331423', '332377', '434462',\n",
       "       '228034', '125050', '018602', '124243', '019016', '228136',\n",
       "       '125548', '331999', '435659', '123793', '123898', '124417',\n",
       "       '020267', '434828', '332386'], dtype=object)"
      ]
     },
     "execution_count": 112,
     "metadata": {},
     "output_type": "execute_result"
    }
   ],
   "source": [
    "df = pd.DataFrame({'idx':idx, 'scan_enp':scan_entropy_list, 'bev_enp':bev_entropy_list, 'pf_scalar':pf_scalar_list, 'pf_vector':pf_vector_list, 's1_gt':s1_gt})\n",
    "X = np.array([df['scan_enp'], df['bev_enp'],df['idx']]).T\n",
    "y = np.array(df['s1_gt'])\n",
    "\n",
    "X_train, X_test, y_train, y_test = train_test_split(X, y, test_size=0.8, random_state=42)\n",
    "\n",
    "train_idx = X_train[:,-1]\n",
    "test_idx = X_test[:,-1]\n",
    "X_train = X_train[:,:-1]\n",
    "X_test = X_test[:,:-1]\n",
    "\n",
    "train_idx\n",
    "# sns.scatterplot(x=bev_entropy_list, y=s1_gt)"
   ]
  },
  {
   "cell_type": "code",
   "execution_count": 113,
   "metadata": {},
   "outputs": [
    {
     "name": "stdout",
     "output_type": "stream",
     "text": [
      "801 3207 7.5\n"
     ]
    },
    {
     "name": "stdout",
     "output_type": "stream",
     "text": [
      "[GBR x and y] test on train dataset\n",
      "mse:  3.0925687396559667\n",
      "rmse:  1.7585700838055807\n",
      "mae:  1.093593467257543\n",
      "r2:  0.8554798067515168\n",
      "[GBR x and y] test on test dataset\n",
      "mse:  11.842325290604835\n",
      "rmse:  3.441267977156797\n",
      "mae:  2.5589398848333866\n",
      "r2:  0.4292390117187982\n",
      "ratio: 0.49859681945743684\n",
      "accuracy:  0.7271593389460556\n",
      "lower count: 1608 ; all count: 3207\n"
     ]
    }
   ],
   "source": [
    "print(len(X_train), len(X_test), mertic)\n",
    "\n",
    "gbr = GradientBoostingRegressor(loss='huber',learning_rate=0.2,n_estimators=100, min_samples_leaf=10, max_depth=10, max_features=15, random_state=42)\n",
    "gbr.fit(X_train,y_train)\n",
    "\n",
    "\n",
    "y_pred_train = gbr.predict(X_train)\n",
    "gbr_mse, gbr_rmse, gbr_mae, gbr_r2 = evaluate_regression(y_train, y_pred_train)\n",
    "print('[GBR x and y] test on train dataset')\n",
    "print('mse: ', gbr_mse)\n",
    "print('rmse: ', gbr_rmse)\n",
    "print('mae: ', gbr_mae)\n",
    "print('r2: ', gbr_r2)\n",
    "\n",
    "y_pred_test = gbr.predict(X_test)\n",
    "gbr_mse, gbr_rmse, gbr_mae, gbr_r2 = evaluate_regression(y_test, y_pred_test)\n",
    "print('[GBR x and y] test on test dataset')\n",
    "print('mse: ', gbr_mse)\n",
    "print('rmse: ', gbr_rmse)\n",
    "print('mae: ', gbr_mae)\n",
    "print('r2: ', gbr_r2)\n",
    "\n",
    "# calculate the accuary with metric\n",
    "y_pred2 = y_pred_test.copy()\n",
    "y_test2 = y_test.copy()\n",
    "y_pred2[y_pred2 <= mertic] = 0\n",
    "y_pred2[y_pred2 > mertic] = 1\n",
    "y_test2[np.float64(y_test2) <= mertic] = 0\n",
    "y_test2[np.float64(y_test2) > mertic] = 1\n",
    "accuracy = np.sum(y_pred2 == y_test2) / len(y_test2)\n",
    "\n",
    "print(\"ratio:\",len(y_pred2[y_pred2 == 1]) / len(y_pred2))\n",
    "\n",
    "\n",
    "print('accuracy: ', accuracy)\n",
    "        \n",
    "# get the idx, where y_pred2 == 1 at the same place\n",
    "idx_lower = test_idx[y_pred2 == 0]\n",
    "idx_higher = test_idx[y_pred2 == 1]\n",
    "\n",
    "idx_lower = np.array(idx_lower, dtype=np.int32)\n",
    "idx_higher = np.array(idx_higher, dtype=np.int32)\n",
    "\n",
    "print(\"lower count:\", len(idx_lower), \"; all count:\",  len(y_test))"
   ]
  },
  {
   "cell_type": "code",
   "execution_count": 114,
   "metadata": {},
   "outputs": [],
   "source": [
    "# print(len(train_idx)+len(idx_higher))\n",
    "# print(len(idx_lower), len(idx_higher))\n",
    "\n",
    "# select_list = np.concatenate((train_idx, idx_higher), axis=0)\n",
    "# select_list = select_list.astype(str)\n",
    "# len(select_list)\n",
    "\n",
    "# start0 = [idx for idx in select_list if idx.startswith('0')]\n",
    "# start1 = [idx for idx in select_list if idx.startswith('1')]\n",
    "# start2 = [idx for idx in select_list if idx.startswith('2')]\n",
    "# start3 = [idx for idx in select_list if idx.startswith('3')]\n",
    "# start4 = [idx for idx in select_list if idx.startswith('4')]\n",
    "\n",
    "# print(len(start0), len(start1), len(start2), len(start3), len(start4))\n"
   ]
  },
  {
   "cell_type": "code",
   "execution_count": 115,
   "metadata": {},
   "outputs": [],
   "source": [
    "# S2\n",
    "PF_ALPHA = 1.5\n",
    "PF_K = 1.0\n",
    "PF_D = 1E5\n",
    "PF_H = 0.5\n",
    "PF_RANGE = 60\n",
    "\n",
    "def function_S2(dist, mesh, bbox_size):\n",
    "    l = dist / PF_RANGE\n",
    "    score = (dist**2 * mesh / (bbox_size*np.sqrt(bbox_size))) / (PF_D * (l * np.log(l)+ PF_H))\n",
    "    return score\n",
    "\n",
    "\n",
    "car_df = pd.DataFrame(columns=['dist', 'mesh', 'bbox_size', 'frame_id'])\n",
    "truck_df = pd.DataFrame(columns=['dist', 'mesh', 'bbox_size', 'frame_id'])\n",
    "van_df = pd.DataFrame(columns=['dist', 'mesh', 'bbox_size', 'frame_id'])\n",
    "\n",
    "for i in range(len(selected_set)):\n",
    "    time_dirc = selected_set[i]\n",
    "    sem_pt_path = '/home/newDisk/tool/carla_dataset_tool/raw_data/record_2024_'+time_dirc+'/vehicle.tesla.model3.master/velodyne_semantic/'\n",
    "    file_list = os.listdir(sem_pt_path)\n",
    "    file_list = [f for f in file_list if f.endswith('.txt')]\n",
    "    file_list.sort()\n",
    "\n",
    "\n",
    "    # file_list = [file for file in file_list if str(i)+file[-9:-4] in select_list]\n",
    "    # print(len(file_list))\n",
    "    \n",
    "\n",
    "    for file in file_list:\n",
    "\n",
    "        with open(sem_pt_path+file) as f:\n",
    "            lines = f.readlines()[:-1]\n",
    "\n",
    "            for line in lines:\n",
    "                line = line.strip().split()\n",
    "                if line[7] == 'Car':\n",
    "                    cy, cz, cx = np.float64(line[0]), np.float64(line[1]), np.float64(line[2])\n",
    "                    sy, sx ,sz = np.float64(line[3]), np.float64(line[4]), np.float64(line[5])\n",
    "                    dist = np.sqrt(cx**2 + cy**2 + (cz-0.5*sz)**2)\n",
    "                    if dist < PF_RANGE:\n",
    "                        mesh = min(2000, np.float64(line[8]))\n",
    "                        bbox_size = np.sqrt(sx**2 + sy**2 + sz**2)\n",
    "                        new_row = pd.Series({'dist': dist, 'mesh': mesh, 'bbox_size': bbox_size, 'frame_id': int(str(i)+file[-9:-4])})\n",
    "                        car_df = pd.concat([car_df, new_row.to_frame().T], ignore_index=True)\n",
    "                elif line[7] == 'Truck':\n",
    "                    cy, cz, cx = np.float64(line[0]), np.float64(line[1]), np.float64(line[2])\n",
    "                    sy, sx ,sz = np.float64(line[3]), np.float64(line[4]), np.float64(line[5])\n",
    "                    dist = np.sqrt(cx**2 + cy**2 + (cz-0.5*sz)**2)\n",
    "                    if dist < PF_RANGE:\n",
    "                        mesh = min(2000, np.float64(line[8]))\n",
    "                        bbox_size = np.sqrt(sx**2 + sy**2 + sz**2)\n",
    "                        new_row = pd.Series({'dist': dist, 'mesh': mesh, 'bbox_size': bbox_size, 'frame_id': int(str(i)+file[-9:-4])})\n",
    "                        truck_df = pd.concat([truck_df, new_row.to_frame().T], ignore_index=True)\n",
    "                elif line[7] == 'Van':\n",
    "                    cy, cz, cx = np.float64(line[0]), np.float64(line[1]), np.float64(line[2])\n",
    "                    sy, sx ,sz = np.float64(line[3]), np.float64(line[4]), np.float64(line[5])\n",
    "                    dist = np.sqrt(cx**2 + cy**2 + (cz-0.5*sz)**2)\n",
    "                    if dist< PF_RANGE:\n",
    "                        mesh = min(2000, np.float64(line[8]))\n",
    "                        bbox_size = np.sqrt(sx**2 + sy**2 + sz**2)\n",
    "                        new_row = pd.Series({'dist': dist, 'mesh': mesh, 'bbox_size': bbox_size, 'frame_id': int(str(i)+file[-9:-4])})\n",
    "                        van_df = pd.concat([van_df, new_row.to_frame().T], ignore_index=True)"
   ]
  },
  {
   "cell_type": "code",
   "execution_count": 116,
   "metadata": {},
   "outputs": [
    {
     "data": {
      "text/plain": [
       "((27757, 4), (5248, 4), (0, 4))"
      ]
     },
     "execution_count": 116,
     "metadata": {},
     "output_type": "execute_result"
    }
   ],
   "source": [
    "car_df.shape, truck_df.shape, van_df.shape"
   ]
  },
  {
   "cell_type": "code",
   "execution_count": 117,
   "metadata": {},
   "outputs": [
    {
     "data": {
      "text/plain": [
       "((8070, 4), (1561, 4), (0, 4))"
      ]
     },
     "execution_count": 117,
     "metadata": {},
     "output_type": "execute_result"
    }
   ],
   "source": [
    "# only keep the frame id that is in idx_lower \n",
    "car_df2 = car_df[car_df['frame_id'].isin(idx_lower)]\n",
    "truck_df2 = truck_df[truck_df['frame_id'].isin(idx_lower)]\n",
    "van_df2 = van_df[van_df['frame_id'].isin(idx_lower)]\n",
    "\n",
    "car_df2.shape, truck_df2.shape, van_df2.shape"
   ]
  },
  {
   "cell_type": "code",
   "execution_count": 118,
   "metadata": {},
   "outputs": [
    {
     "name": "stderr",
     "output_type": "stream",
     "text": [
      "/tmp/ipykernel_345561/2141701409.py:6: SettingWithCopyWarning: \n",
      "A value is trying to be set on a copy of a slice from a DataFrame.\n",
      "Try using .loc[row_indexer,col_indexer] = value instead\n",
      "\n",
      "See the caveats in the documentation: https://pandas.pydata.org/pandas-docs/stable/user_guide/indexing.html#returning-a-view-versus-a-copy\n",
      "  car_df2.loc[:,'score'] = car_score\n",
      "/tmp/ipykernel_345561/2141701409.py:7: SettingWithCopyWarning: \n",
      "A value is trying to be set on a copy of a slice from a DataFrame.\n",
      "Try using .loc[row_indexer,col_indexer] = value instead\n",
      "\n",
      "See the caveats in the documentation: https://pandas.pydata.org/pandas-docs/stable/user_guide/indexing.html#returning-a-view-versus-a-copy\n",
      "  truck_df2.loc[:,'score'] = truck_score\n",
      "/tmp/ipykernel_345561/2141701409.py:11: SettingWithCopyWarning: \n",
      "A value is trying to be set on a copy of a slice from a DataFrame.\n",
      "Try using .loc[row_indexer,col_indexer] = value instead\n",
      "\n",
      "See the caveats in the documentation: https://pandas.pydata.org/pandas-docs/stable/user_guide/indexing.html#returning-a-view-versus-a-copy\n",
      "  car_df2['frame_id'] = car_df2['frame_id'].astype(np.int32)\n",
      "/tmp/ipykernel_345561/2141701409.py:12: SettingWithCopyWarning: \n",
      "A value is trying to be set on a copy of a slice from a DataFrame.\n",
      "Try using .loc[row_indexer,col_indexer] = value instead\n",
      "\n",
      "See the caveats in the documentation: https://pandas.pydata.org/pandas-docs/stable/user_guide/indexing.html#returning-a-view-versus-a-copy\n",
      "  truck_df2['frame_id'] = truck_df2['frame_id'].astype(np.int32)\n"
     ]
    },
    {
     "data": {
      "text/html": [
       "<div>\n",
       "<style scoped>\n",
       "    .dataframe tbody tr th:only-of-type {\n",
       "        vertical-align: middle;\n",
       "    }\n",
       "\n",
       "    .dataframe tbody tr th {\n",
       "        vertical-align: top;\n",
       "    }\n",
       "\n",
       "    .dataframe thead th {\n",
       "        text-align: right;\n",
       "    }\n",
       "</style>\n",
       "<table border=\"1\" class=\"dataframe\">\n",
       "  <thead>\n",
       "    <tr style=\"text-align: right;\">\n",
       "      <th></th>\n",
       "      <th>dist</th>\n",
       "      <th>mesh</th>\n",
       "      <th>bbox_size</th>\n",
       "      <th>frame_id</th>\n",
       "      <th>score</th>\n",
       "    </tr>\n",
       "  </thead>\n",
       "  <tbody>\n",
       "    <tr>\n",
       "      <th>111</th>\n",
       "      <td>48.681704</td>\n",
       "      <td>174.0</td>\n",
       "      <td>5.326633</td>\n",
       "      <td>17645</td>\n",
       "      <td>1.015248</td>\n",
       "    </tr>\n",
       "    <tr>\n",
       "      <th>112</th>\n",
       "      <td>39.649140</td>\n",
       "      <td>248.0</td>\n",
       "      <td>5.901395</td>\n",
       "      <td>17645</td>\n",
       "      <td>1.202042</td>\n",
       "    </tr>\n",
       "    <tr>\n",
       "      <th>113</th>\n",
       "      <td>54.797182</td>\n",
       "      <td>122.0</td>\n",
       "      <td>5.553253</td>\n",
       "      <td>17645</td>\n",
       "      <td>0.671047</td>\n",
       "    </tr>\n",
       "    <tr>\n",
       "      <th>131</th>\n",
       "      <td>46.945831</td>\n",
       "      <td>150.0</td>\n",
       "      <td>5.817201</td>\n",
       "      <td>17663</td>\n",
       "      <td>0.764928</td>\n",
       "    </tr>\n",
       "    <tr>\n",
       "      <th>132</th>\n",
       "      <td>49.820645</td>\n",
       "      <td>174.0</td>\n",
       "      <td>5.901395</td>\n",
       "      <td>17663</td>\n",
       "      <td>0.871623</td>\n",
       "    </tr>\n",
       "  </tbody>\n",
       "</table>\n",
       "</div>"
      ],
      "text/plain": [
       "          dist   mesh  bbox_size  frame_id     score\n",
       "111  48.681704  174.0   5.326633     17645  1.015248\n",
       "112  39.649140  248.0   5.901395     17645  1.202042\n",
       "113  54.797182  122.0   5.553253     17645  0.671047\n",
       "131  46.945831  150.0   5.817201     17663  0.764928\n",
       "132  49.820645  174.0   5.901395     17663  0.871623"
      ]
     },
     "execution_count": 118,
     "metadata": {},
     "output_type": "execute_result"
    }
   ],
   "source": [
    "car_score = function_S2(car_df2['dist'], car_df2['mesh'], car_df2['bbox_size'])\n",
    "truck_score = function_S2(truck_df2['dist'], truck_df2['mesh'], truck_df2['bbox_size'])\n",
    "van_score = function_S2(van_df2['dist'], van_df2['mesh'], van_df2['bbox_size'])\n",
    "\n",
    "# use .loc save the score to a new column, type is np.float64\n",
    "car_df2.loc[:,'score'] = car_score\n",
    "truck_df2.loc[:,'score'] = truck_score\n",
    "van_df2.loc[:,'score'] = van_score\n",
    "\n",
    "# frame_id to type int32\n",
    "car_df2['frame_id'] = car_df2['frame_id'].astype(np.int32)\n",
    "truck_df2['frame_id'] = truck_df2['frame_id'].astype(np.int32)\n",
    "van_df2['frame_id'] = van_df2['frame_id'].astype(np.int32)\n",
    "\n",
    "car_df2.head()"
   ]
  },
  {
   "cell_type": "code",
   "execution_count": 119,
   "metadata": {},
   "outputs": [
    {
     "name": "stdout",
     "output_type": "stream",
     "text": [
      "(1567, 4) (1039, 4) (0, 4)\n",
      "[330337 435299 123187 ... 229099 229366 435638]\n",
      "(1567, 2)\n"
     ]
    }
   ],
   "source": [
    "car_df3 = car_df2.groupby('frame_id').sum()\n",
    "truck_df3 = truck_df2.groupby('frame_id').sum()\n",
    "van_df3 = van_df2.groupby('frame_id').sum()\n",
    "\n",
    "print(car_df3.shape, truck_df3.shape, van_df3.shape)\n",
    "print(idx_lower)\n",
    "\n",
    "# sum three types vehicle score by frame id, save frame id and score at a new dataframe\n",
    "vehicle_df = pd.DataFrame(columns=['frame_id', 'score'])\n",
    "for frame_id in car_df3.index:\n",
    "    # get score use index\n",
    "    car_score = car_df3.loc[frame_id]['score']\n",
    "    if frame_id in truck_df3.index:\n",
    "        truck_score = truck_df3.loc[frame_id]['score']\n",
    "    else:\n",
    "        truck_score = 0\n",
    "\n",
    "    if frame_id in van_df3.index:\n",
    "        van_score = van_df3.loc[frame_id]['score']\n",
    "    else:\n",
    "        van_score = 0\n",
    "\n",
    "    score = car_score + truck_score + van_score\n",
    "    \n",
    "    new_row = pd.Series({'frame_id': frame_id, 'score': score})\n",
    "    vehicle_df = pd.concat([vehicle_df, new_row.to_frame().T], ignore_index=True)\n",
    "\n",
    "print(vehicle_df.shape)"
   ]
  },
  {
   "cell_type": "code",
   "execution_count": 120,
   "metadata": {},
   "outputs": [
    {
     "name": "stderr",
     "output_type": "stream",
     "text": [
      "/tmp/ipykernel_345561/2683256851.py:2: UserWarning: \n",
      "\n",
      "`distplot` is a deprecated function and will be removed in seaborn v0.14.0.\n",
      "\n",
      "Please adapt your code to use either `displot` (a figure-level function with\n",
      "similar flexibility) or `histplot` (an axes-level function for histograms).\n",
      "\n",
      "For a guide to updating your code to use the new functions, please see\n",
      "https://gist.github.com/mwaskom/de44147ed2974457ad6372750bbe5751\n",
      "\n",
      "  sns.distplot(vehicle_df['score'])\n"
     ]
    },
    {
     "data": {
      "text/plain": [
       "<Axes: xlabel='score', ylabel='Density'>"
      ]
     },
     "execution_count": 120,
     "metadata": {},
     "output_type": "execute_result"
    },
    {
     "data": {
      "image/png": "[encoded data removed]",
      "text/plain": [
       "<Figure size 640x480 with 1 Axes>"
      ]
     },
     "metadata": {},
     "output_type": "display_data"
    }
   ],
   "source": [
    "# visualize the distribution of score\n",
    "sns.distplot(vehicle_df['score'])"
   ]
  },
  {
   "cell_type": "code",
   "execution_count": 128,
   "metadata": {},
   "outputs": [
    {
     "name": "stdout",
     "output_type": "stream",
     "text": [
      "0.29012679949081 22.444590947915025\n",
      "S2 spilt 0.32801531589023614\n",
      "S1S2 spilt 0.3283442469597755\n",
      "all frame count 3453\n"
     ]
    }
   ],
   "source": [
    "print(vehicle_df['score'].min(), vehicle_df['score'].max())\n",
    "\n",
    "ratio = len(vehicle_df[vehicle_df['score'] < mertic2]) / len(vehicle_df)\n",
    "print(\"S2 spilt\",ratio)\n",
    "\n",
    "idx_test = vehicle_df[vehicle_df['score'] > mertic2].values\n",
    "idx_test = np.int32(idx_test[:,0])\n",
    "\n",
    "idx_test = np.array(idx_test, dtype=np.int32)\n",
    "print(\"S1S2 spilt\", len(idx_test) / len(y_test))\n",
    "\n",
    "print(\"all frame count\", len(train_idx)+ len(idx_test) + len(idx_higher))"
   ]
  },
  {
   "cell_type": "code",
   "execution_count": 129,
   "metadata": {},
   "outputs": [
    {
     "name": "stdout",
     "output_type": "stream",
     "text": [
      "3453\n"
     ]
    }
   ],
   "source": [
    "# frame_id = train_idx + test_idx, write to imageset\n",
    "\n",
    "# if cnt in train_list is a 5 digit number, add 0 before it\n",
    "idx_test = np.array(idx_test, dtype=np.int32)\n",
    "idx_test = np.array(['0'+str(i) if len(str(i)) == 5 else str(i) for i in idx_test])\n",
    "\n",
    "train_list = train_idx.tolist() + idx_test.tolist() + idx_higher.tolist()\n",
    "train_list = np.array(train_list, dtype=np.int32)\n",
    "train_list = np.array(['0'+str(i) if len(str(i)) == 5 else str(i) for i in train_list])\n",
    "\n",
    "# str the train_list\n",
    "train_list.sort()\n",
    "\n",
    "print(len(train_list))\n",
    "\n",
    "test_list = []\n",
    "val_list = []\n",
    "test_spilt = 12\n",
    "val_spilt = 15\n",
    "\n",
    "\n",
    "\n",
    "\n",
    "# idx should not has element in empty_file\n",
    "for id in empty_file:\n",
    "    if id in train_list:\n",
    "        train_list.remove(id)\n",
    "\n",
    "train_path = './imagesets/C/train.txt'\n",
    "test_path = './imagesets/C/test.txt'\n",
    "val_path = './imagesets/C/val.txt'\n",
    "\n",
    "\n",
    "for i in range(len(train_list)):\n",
    "    if i % test_spilt == 0:\n",
    "        test_list.append(train_list[i])\n",
    "        \n",
    "        train_list[i] = 'none'\n",
    "    if i % val_spilt == 0:\n",
    "        val_list.append(train_list[i])\n",
    "        train_list[i] = 'none'\n",
    "\n",
    "train_list = [x for x in train_list if x != 'none']\n",
    "val_list = [x for x in val_list if x != 'none']\n",
    "\n",
    "with open(train_path, 'w') as f:\n",
    "    for item in train_list:\n",
    "        f.write(\"%s\\n\" % item)\n",
    "\n",
    "with open(test_path, 'w') as f:\n",
    "    for item in test_list:\n",
    "        f.write(\"%s\\n\" % item)\n",
    "\n",
    "with open(val_path, 'w') as f:\n",
    "    for item in val_list:\n",
    "        f.write(\"%s\\n\" % item)"
   ]
  },
  {
   "cell_type": "code",
   "execution_count": 123,
   "metadata": {},
   "outputs": [
    {
     "data": {
      "text/plain": [
       "array(['017645', '017663', '017666', ..., '435842', '435851', '436187'],\n",
       "      dtype='<U6')"
      ]
     },
     "execution_count": 123,
     "metadata": {},
     "output_type": "execute_result"
    }
   ],
   "source": [
    "idx_test"
   ]
  }
 ],
 "metadata": {
  "kernelspec": {
   "display_name": "carla15",
   "language": "python",
   "name": "python3"
  },
  "language_info": {
   "codemirror_mode": {
    "name": "ipython",
    "version": 3
   },
   "file_extension": ".py",
   "mimetype": "text/x-python",
   "name": "python",
   "nbconvert_exporter": "python",
   "pygments_lexer": "ipython3",
   "version": "3.8.18"
  },
  "orig_nbformat": 4
 },
 "nbformat": 4,
 "nbformat_minor": 2
}
