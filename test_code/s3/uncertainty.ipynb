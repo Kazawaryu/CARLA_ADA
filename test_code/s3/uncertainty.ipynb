{
 "cells": [
  {
   "cell_type": "code",
   "execution_count": 3,
   "metadata": {},
   "outputs": [
    {
     "name": "stdout",
     "output_type": "stream",
     "text": [
      "Accuracy: 0.917\n"
     ]
    }
   ],
   "source": [
    "from sklearn.svm import SVC\n",
    "from sklearn.model_selection import train_test_split\n",
    "import numpy as np\n",
    "\n",
    "X_xor = np.random.randn(200, 2)\n",
    "y_xor = np.logical_xor(X_xor[:, 0]>0, X_xor[:, 1]>0)\n",
    "y_xor = np.where(y_xor, 1, -1)\n",
    "\n",
    "X_train, X_test, y_train, y_test = train_test_split(X_xor, y_xor, test_size=0.3, random_state=0)\n",
    "\n",
    "svc = SVC(kernel='rbf', random_state=0, gamma=0.1, C=10.0)\n",
    "svc.fit(X_train, y_train)\n",
    "y_pred = svc.predict(X_test)\n",
    "acc = np.sum(y_pred == y_test) / len(y_test)\n",
    "print('Accuracy: %.3f' % acc)\n"
   ]
  }
 ],
 "metadata": {
  "kernelspec": {
   "display_name": "det38",
   "language": "python",
   "name": "python3"
  },
  "language_info": {
   "codemirror_mode": {
    "name": "ipython",
    "version": 3
   },
   "file_extension": ".py",
   "mimetype": "text/x-python",
   "name": "python",
   "nbconvert_exporter": "python",
   "pygments_lexer": "ipython3",
   "version": "3.8.18"
  }
 },
 "nbformat": 4,
 "nbformat_minor": 2
}
