{
 "cells": [
  {
   "cell_type": "code",
   "execution_count": 13,
   "metadata": {},
   "outputs": [
    {
     "name": "stdout",
     "output_type": "stream",
     "text": [
      "3437\n"
     ]
    }
   ],
   "source": [
    "import os\n",
    "import numpy as np\n",
    "import pandas as pd\n",
    "import matplotlib.pyplot as plt\n",
    "\n",
    "Origin_S3_root_path = '/home/newDisk/tool/S3_data/C'\n",
    "save_path = '/home/newDisk/tool/carla_dataset_tool/dataset'\n",
    "subdirs = os.listdir(Origin_S3_root_path)\n",
    "subdirs = ['training/velodyne', '_CVL_beta_0.005','_CVL_beta_0.010', '_CVL_beta_0.020']\n",
    "ratios = [0.6,0.2,0.1,0.05]\n",
    "\n",
    "pointcloud_list = os.listdir(os.path.join(Origin_S3_root_path, subdirs[0]))\n",
    "pointcloud_list.sort()\n",
    "print(len(pointcloud_list))\n",
    "# randomly select the ratios (from ratios[]) of the pointclouds of each subdirs\n"
   ]
  },
  {
   "cell_type": "code",
   "execution_count": 14,
   "metadata": {},
   "outputs": [
    {
     "name": "stdout",
     "output_type": "stream",
     "text": [
      "0 2062\n",
      "1 687\n",
      "2 343\n",
      "3 171\n"
     ]
    }
   ],
   "source": [
    "pointcloud_each_subdir = [[],[],[],[]]\n",
    "for i in range(len(subdirs)):\n",
    "    pointcloud_each_subdir[i] = np.random.choice(pointcloud_list, int(len(pointcloud_list)*ratios[i]), replace=False)\n",
    "    print(i,len(pointcloud_each_subdir[i]))"
   ]
  },
  {
   "cell_type": "code",
   "execution_count": 16,
   "metadata": {},
   "outputs": [
    {
     "data": {
      "text/plain": [
       "0"
      ]
     },
     "execution_count": 16,
     "metadata": {},
     "output_type": "execute_result"
    }
   ],
   "source": [
    "# copy the 'ImageSets' and 'testing' dir to the save_path\n",
    "os.system('cp -r '+Origin_S3_root_path+'/ImageSets '+save_path)\n",
    "os.system('cp -r '+Origin_S3_root_path+'/testing '+save_path)\n",
    "# copy the 'training' dir but without the sub dir 'velodyne'\n",
    "# mkdir 'velodyne' dir in the save_path\n",
    "os.system('mkdir '+save_path+'/training')\n",
    "os.system('cp -r '+Origin_S3_root_path+'/training/calib '+save_path+'/training')\n",
    "os.system('cp -r '+Origin_S3_root_path+'/training/label_2 '+save_path+'/training')\n",
    "os.system('cp -r '+Origin_S3_root_path+'/training/image_2 '+save_path+'/training')\n"
   ]
  },
  {
   "cell_type": "code",
   "execution_count": 18,
   "metadata": {},
   "outputs": [
    {
     "name": "stderr",
     "output_type": "stream",
     "text": [
      "mkdir: 无法创建目录 “/home/newDisk/tool/carla_dataset_tool/dataset/training/velodyne”: 文件已存在\n"
     ]
    }
   ],
   "source": [
    "os.system('mkdir '+save_path+'/training/velodyne')\n",
    "# copy the pointclouds to the save_path\n",
    "for i in range(len(subdirs)):\n",
    "    for j in range(len(pointcloud_each_subdir[i])):\n",
    "        os.system('cp '+Origin_S3_root_path+'/'+subdirs[i]+'/'+pointcloud_each_subdir[i][j]+' '+save_path+'/training/velodyne')"
   ]
  },
  {
   "cell_type": "code",
   "execution_count": 28,
   "metadata": {},
   "outputs": [
    {
     "name": "stdout",
     "output_type": "stream",
     "text": [
      "0 2062\n",
      "1 687\n",
      "2 343\n",
      "3 171\n"
     ]
    }
   ],
   "source": [
    "# save the indices of the pointclouds to the txt file\n",
    "for i in range(len(subdirs)):\n",
    "    # create save_path+'/ImageSets/'+subdirs[i]+'.txt' if not exist\n",
    "\n",
    "    with open(save_path+'/ImageSets/S3/'+str(i)+'.txt','w') as f:\n",
    "        for j in range(len(pointcloud_each_subdir[i])):\n",
    "            f.write(pointcloud_each_subdir[i][j].split('.')[0]+'\\n')\n",
    "    print(i, len(pointcloud_each_subdir[i]))"
   ]
  }
 ],
 "metadata": {
  "kernelspec": {
   "display_name": "carla15",
   "language": "python",
   "name": "python3"
  },
  "language_info": {
   "codemirror_mode": {
    "name": "ipython",
    "version": 3
   },
   "file_extension": ".py",
   "mimetype": "text/x-python",
   "name": "python",
   "nbconvert_exporter": "python",
   "pygments_lexer": "ipython3",
   "version": "3.8.18"
  }
 },
 "nbformat": 4,
 "nbformat_minor": 2
}
