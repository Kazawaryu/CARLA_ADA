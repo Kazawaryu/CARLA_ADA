{
 "cells": [
  {
   "cell_type": "code",
   "execution_count": 340,
   "metadata": {},
   "outputs": [],
   "source": [
    "import os\n",
    "import numpy as np\n",
    "import pandas as pd\n",
    "import seaborn as sns\n",
    "import matplotlib.pyplot as plt\n",
    "import random\n",
    "from sklearn.ensemble import GradientBoostingRegressor\n",
    "from sklearn.model_selection import train_test_split\n",
    "from sklearn.metrics import mean_squared_error, mean_absolute_error, r2_score\n",
    "\n",
    "set_label = ['50-25','75-37','100-50','125-67','150-75']\n",
    "set_A_05 = ['1226_1700', '1226_1713', '1226_1727', '1226_1741', '1226_1756']\n",
    "set_B_02 = ['0104_2223', '0104_2309', '0104_2328', '0104_2343', '0105_0013']\n",
    "set_C_10 = ['0116_0117', '0116_0125', '0116_0132', '0116_0140', '0116_0149']\n",
    "set_D_06 = ['0104_1949', '0104_2002', '0104_2016', '0104_2032', '0104_2056']\n",
    "\n",
    "selected_set = set_B_02\n",
    "set_name = './imagesets/B_S1_0.08.txt'\n",
    "mertic = 7.5\n",
    "mertic2 = 1.2\n",
    "\n",
    "random.seed(114)\n",
    "# B:8.04% -> 1.1\n",
    "# D:9.15% -> 0.8"
   ]
  },
  {
   "cell_type": "code",
   "execution_count": 341,
   "metadata": {},
   "outputs": [],
   "source": [
    "# df = pd.read_csv(s1s2_path)\n",
    "# X = np.array([df['scan_enp'], df['bev_enp']]).T\n",
    "# y = np.array(df['s1_gt'])\n",
    "\n",
    "# X_train, X_test, y_train, y_test = train_test_split(X, y, test_size=0.8, random_state=42)\n",
    "\n",
    "def evaluate_regression(y_test, y_pred):\n",
    "    mse = mean_squared_error(y_test, y_pred)\n",
    "    rmse = mean_squared_error(y_test, y_pred, squared=False)\n",
    "    mae = mean_absolute_error(y_test, y_pred)\n",
    "    r2 = r2_score(y_test, y_pred)\n",
    "    \n",
    "    return mse, rmse, mae, r2"
   ]
  },
  {
   "cell_type": "code",
   "execution_count": 342,
   "metadata": {},
   "outputs": [],
   "source": [
    "idx, scan_entropy_list, bev_entropy_list, pf_scalar_list, pf_vector_list, s1_gt =[], [], [], [], [], []\n",
    "empty_file = []\n",
    "sub_cnt = 0\n",
    "for time_dirc in selected_set:\n",
    "    sem_pt_path = '/home/newDisk/tool/carla_dataset_tool/raw_data/record_2024_'+time_dirc+'/vehicle.tesla.model3.master/velodyne_semantic/'\n",
    "    file_list = os.listdir(sem_pt_path)\n",
    "    file_list = [f for f in file_list if f.endswith('.txt')]\n",
    "    file_list.sort()\n",
    "\n",
    "    for file_name in file_list:\n",
    "        gt = 0\n",
    "        with open(sem_pt_path+file_name, 'r') as f:\n",
    "            lines = f.readlines()\n",
    "            last_line = lines[-1]\n",
    "            if len(lines) ==1:\n",
    "                empty_file.append(str(sub_cnt)+file_name[-9:-4])\n",
    "            else:\n",
    "                scores = last_line.split(' ')\n",
    "                s1_gt.append(scores[0])\n",
    "                scan_entropy_list.append(np.float64(scores[1]))\n",
    "                bev_entropy_list.append(np.float64(scores[2]))\n",
    "                pf_scalar_list.append(np.float64(scores[3]))\n",
    "                pf_vector_list.append(np.float64(scores[4].replace('\\n','')))\n",
    "                idx.append(str(sub_cnt)+file_name[-9:-4])\n",
    "\n",
    "    sub_cnt += 1\n"
   ]
  },
  {
   "cell_type": "code",
   "execution_count": 343,
   "metadata": {},
   "outputs": [
    {
     "data": {
      "text/plain": [
       "4220"
      ]
     },
     "execution_count": 343,
     "metadata": {},
     "output_type": "execute_result"
    }
   ],
   "source": [
    "len(scan_entropy_list)"
   ]
  },
  {
   "cell_type": "code",
   "execution_count": 344,
   "metadata": {},
   "outputs": [
    {
     "data": {
      "text/plain": [
       "array(['405727', '014954', '403906', '336136', '121733', '013034',\n",
       "       '337837', '015518', '405817', '405619', '121799', '013517',\n",
       "       '229079', '336925', '014006', '227960', '405052', '337309',\n",
       "       '405739', '404674', '337705', '337678', '405055', '336127',\n",
       "       '012857', '229997', '228320', '228002', '015014', '013640',\n",
       "       '336304', '123053', '014054', '403933', '122945', '336385',\n",
       "       '120758', '405430', '403591', '230030', '228605', '403738',\n",
       "       '121685', '337387', '336535', '230153', '228326', '015110',\n",
       "       '012950', '015566', '335842', '014504', '337486', '337939',\n",
       "       '335728', '404251', '335659', '122279', '121448', '121085',\n",
       "       '014003', '014891', '336574', '013958', '120887', '336007',\n",
       "       '335854', '122225', '121097', '336571', '014297', '404650',\n",
       "       '337729', '122354', '404782', '122849', '337906', '121781',\n",
       "       '228779', '122867', '404632', '121763', '227564', '121769',\n",
       "       '405397', '405472', '337591', '336313', '013085', '121529',\n",
       "       '015404', '228044', '229163', '335647', '404812', '228812',\n",
       "       '013247', '121433', '120785', '120770', '015431', '404134',\n",
       "       '122795', '121655', '014399', '405955', '229691', '228485',\n",
       "       '229808', '336733', '228362', '122318', '120668', '015446',\n",
       "       '014252', '230075', '123287', '404575', '404470', '405766',\n",
       "       '014846', '013364', '337330', '012944', '228131', '015029',\n",
       "       '013118', '229145', '121628', '336283', '404074', '404620',\n",
       "       '403771', '337708', '336940', '227969', '121478', '121988',\n",
       "       '013496', '337975', '014417', '123278', '014384', '404095',\n",
       "       '228056', '122330', '122759', '229664', '405214', '337447',\n",
       "       '228725', '122822', '121664', '335524', '336040', '336496',\n",
       "       '122414', '229154', '404293', '123266', '121604', '122828',\n",
       "       '337642', '404269', '336397', '230123', '120845', '336964',\n",
       "       '336757', '335386', '015143', '335602', '013550', '015089',\n",
       "       '121727', '405163', '121481', '404572', '404383', '229841',\n",
       "       '336463', '121640', '121187', '228965', '121178', '335329',\n",
       "       '121514', '337405', '403981', '122678', '336328', '336502',\n",
       "       '336805', '404077', '404959', '336937', '120638', '013277',\n",
       "       '122336', '015512', '403678', '335851', '015041', '227945',\n",
       "       '230012', '013667', '013073', '405259', '229982', '014072',\n",
       "       '404419', '229175', '336787', '405538', '014075', '122261',\n",
       "       '404197', '228197', '014675', '228824', '121901', '227951',\n",
       "       '120602', '404752', '229298', '229484', '122846', '403633',\n",
       "       '012938', '405835', '335617', '404329', '228926', '404881',\n",
       "       '120923', '122915', '121379', '335863', '229223', '336418',\n",
       "       '230018', '228164', '403708', '014915', '335938', '336721',\n",
       "       '405058', '015077', '403786', '403654', '014123', '336967',\n",
       "       '122750', '123149', '404035', '015437', '337540', '014738',\n",
       "       '013190', '014138', '336724', '123077', '336568', '335437',\n",
       "       '405886', '013115', '336202', '404767', '228743', '015152',\n",
       "       '230144', '337711', '337897', '123092', '012863', '229838',\n",
       "       '013739', '405679', '121190', '121586', '122486', '404272',\n",
       "       '405568', '405550', '403807', '335704', '405157', '122906',\n",
       "       '229787', '335701', '404584', '123299', '015515', '403954',\n",
       "       '229121', '120671', '014375', '229421', '227831', '013892',\n",
       "       '336031', '336778', '014432', '122210', '121037', '335962',\n",
       "       '405595', '405574', '335941', '337621', '337492', '404566',\n",
       "       '406009', '227828', '230213', '227840', '228707', '013955',\n",
       "       '405715', '337714', '121949', '123107', '014537', '229670',\n",
       "       '229943', '230069', '229301', '336394', '121694', '405037',\n",
       "       '336694', '120857', '227804', '228920', '121016', '336871',\n",
       "       '121289', '405004', '337846', '335722', '405697', '120980',\n",
       "       '403831', '123275', '013307', '336970', '405481', '336238',\n",
       "       '336025', '014630', '122576', '014999', '121649', '337807',\n",
       "       '120674', '337663', '014348', '404344', '014564', '121436',\n",
       "       '404458', '121370', '336061', '014423', '014789', '404614',\n",
       "       '123230', '121028', '228281', '404863', '121463', '336028',\n",
       "       '405580', '013196', '403951', '015113', '405385', '228410',\n",
       "       '121238', '404353', '227915', '015452', '013205', '014858',\n",
       "       '405253', '405088', '121400', '014795', '013994', '013679',\n",
       "       '335596', '336466', '336124', '336256', '012968', '403576',\n",
       "       '405448', '120965', '120614', '015275', '121670', '121391',\n",
       "       '012842', '404401', '336670', '122987', '336889', '229439',\n",
       "       '336637', '335461', '229979', '336667', '121226', '015473',\n",
       "       '014933', '227627', '229562', '403552', '335332', '229589',\n",
       "       '229091', '121457', '337522', '014612', '404659', '404560',\n",
       "       '012980', '015521', '228434', '335827', '227957', '015461',\n",
       "       '403588', '121358', '121511', '230060', '228206', '120899',\n",
       "       '335587', '014084', '230183', '229610', '012887', '014942',\n",
       "       '012935', '336367', '405667', '336139', '014459', '229871',\n",
       "       '120746', '228011', '228158', '014498', '335929', '227582',\n",
       "       '405850', '336847', '337480', '013610', '403705', '337264',\n",
       "       '015314', '122393', '230117', '013310', '404461', '336544',\n",
       "       '123296', '336217', '337855', '014765', '335689', '228173',\n",
       "       '122204', '014597', '405856', '227759', '227933', '228692',\n",
       "       '013229', '337963', '337720', '405988', '228515', '336442',\n",
       "       '120932', '229406', '013418', '121430', '120968', '014987',\n",
       "       '405256', '014708', '013388', '013790', '230138', '405406',\n",
       "       '405454', '121172', '227789', '228935', '230201', '406012',\n",
       "       '121199', '230078', '229115', '121742', '337468', '012878',\n",
       "       '404071', '336877', '121658', '014525', '404083', '014864',\n",
       "       '405136', '336718', '405277', '122714', '120863', '336292',\n",
       "       '229499', '404368', '015353', '337822', '013523', '228719',\n",
       "       '337840', '227882', '229961', '014576', '403621', '229337',\n",
       "       '228752', '123317', '335899', '121127', '403651', '014294',\n",
       "       '120848', '014264', '335695', '405772', '014807', '405463',\n",
       "       '121667', '121487', '122411', '405178', '122783', '015407',\n",
       "       '121913', '014078', '336058', '123011', '013328', '227579',\n",
       "       '120854', '404725', '337441', '336121', '404683', '405826',\n",
       "       '120617', '228245', '336400', '228140', '229100', '013142',\n",
       "       '122690', '230177', '337288', '337633', '013634', '405124',\n",
       "       '013157', '122501', '122495', '123146', '014648', '014771',\n",
       "       '227555', '337312', '228800', '229097', '014096', '121475',\n",
       "       '229271', '336103', '123284', '337039', '405589', '228665',\n",
       "       '336703', '121562', '336841', '014243', '404506', '229409',\n",
       "       '122147', '336349', '228644', '120626', '404257', '405829',\n",
       "       '014759', '229685', '405427', '227846', '013661', '123104',\n",
       "       '337885', '122480', '229094', '228395', '230066', '227891',\n",
       "       '014810', '406006', '229661', '335275', '405670', '228365',\n",
       "       '336445', '014351', '228017', '227687', '336247', '337396',\n",
       "       '013286', '122804', '228449', '122273', '229856', '405874',\n",
       "       '336523', '335947', '014867', '227867', '403573', '230039',\n",
       "       '337972', '013406', '121454', '337555', '014714', '229073',\n",
       "       '335905', '404068', '228278', '336604', '013439', '404371',\n",
       "       '336307', '405079', '229487', '013766', '015254', '014087',\n",
       "       '013214', '337504', '013454', '403843', '015467', '229388',\n",
       "       '122483', '227684', '227552', '335836', '227588', '405820',\n",
       "       '121472', '123221', '403735', '229802', '405622', '227762',\n",
       "       '015524', '122969', '229307', '014813', '012833', '228977',\n",
       "       '014984', '405877', '336514', '404416', '123110', '337291',\n",
       "       '403687', '403684', '404989', '404065', '121886', '405718',\n",
       "       '229973', '122762', '228047', '121421', '404641', '337651',\n",
       "       '405790', '123095', '404581', '403648', '405049', '228491',\n",
       "       '014879', '014939', '121784', '405931', '337627', '404596',\n",
       "       '013838', '014834', '122468', '122639', '015017', '403603',\n",
       "       '121859', '335506', '405445', '121931', '229217', '337645',\n",
       "       '228611', '122789', '123227', '405844', '405898', '404209',\n",
       "       '335560', '336697', '122993', '335677', '335356', '337000',\n",
       "       '337681', '227648', '121169', '337465', '123272', '227756',\n",
       "       '014579', '335878', '015551', '122654', '013466', '120596',\n",
       "       '014393', '121076', '404875', '335551', '122912', '335824',\n",
       "       '335683', '015374', '404263', '229868', '336829', '013448',\n",
       "       '336814', '229340', '403999', '014060', '122687', '335566',\n",
       "       '228578', '230210', '013040', '405007', '228683', '014363',\n",
       "       '014024', '405337', '121223', '120620', '013898', '121040',\n",
       "       '121838', '404746', '337804', '120977', '228431', '013331',\n",
       "       '122702', '404884', '335320', '403696', '121055', '336736',\n",
       "       '405184', '122957', '228353', '336985', '012932', '405400',\n",
       "       '015281', '230174', '122636', '122255', '335317', '335986',\n",
       "       '228620', '013598', '228680', '229595', '014690', '229811',\n",
       "       '336178', '014828', '405025', '403984', '337345', '122786',\n",
       "       '121814', '228185', '336532', '335692', '013415', '227903',\n",
       "       '120917', '335734', '228638', '230180', '121241', '014309',\n",
       "       '336226', '405709', '337933', '121565', '229805', '229679',\n",
       "       '015263', '123293', '013238', '336271', '337042', '403645',\n",
       "       '014285', '336793', '404668', '015542'], dtype=object)"
      ]
     },
     "execution_count": 344,
     "metadata": {},
     "output_type": "execute_result"
    }
   ],
   "source": [
    "df = pd.DataFrame({'idx':idx, 'scan_enp':scan_entropy_list, 'bev_enp':bev_entropy_list, 'pf_scalar':pf_scalar_list, 'pf_vector':pf_vector_list, 's1_gt':s1_gt})\n",
    "X = np.array([df['scan_enp'], df['bev_enp'],df['idx']]).T\n",
    "y = np.array(df['s1_gt'])\n",
    "\n",
    "X_train, X_test, y_train, y_test = train_test_split(X, y, test_size=0.8, random_state=42)\n",
    "\n",
    "train_idx = X_train[:,-1]\n",
    "test_idx = X_test[:,-1]\n",
    "X_train = X_train[:,:-1]\n",
    "X_test = X_test[:,:-1]\n",
    "\n",
    "train_idx\n",
    "# sns.scatterplot(x=bev_entropy_list, y=s1_gt)"
   ]
  },
  {
   "cell_type": "code",
   "execution_count": 345,
   "metadata": {},
   "outputs": [
    {
     "name": "stdout",
     "output_type": "stream",
     "text": [
      "844 3376 7.5\n"
     ]
    },
    {
     "name": "stdout",
     "output_type": "stream",
     "text": [
      "[GBR x and y] test on train dataset\n",
      "mse:  1.596813639356973\n",
      "rmse:  1.2636509167317425\n",
      "mae:  0.8148433513413909\n",
      "r2:  0.8261297809196246\n",
      "[GBR x and y] test on test dataset\n",
      "mse:  6.868640742441081\n",
      "rmse:  2.6208091770369473\n",
      "mae:  1.8843235546523238\n",
      "r2:  0.2423545885271956\n",
      "ratio: 0.06131516587677725\n",
      "accuracy:  0.9001777251184834\n",
      "lower count: 3169 ; all count: 3376\n"
     ]
    }
   ],
   "source": [
    "print(len(X_train), len(X_test), mertic)\n",
    "\n",
    "gbr = GradientBoostingRegressor(loss='huber',learning_rate=0.2,n_estimators=100, min_samples_leaf=10, max_depth=10, max_features=15, random_state=42)\n",
    "gbr.fit(X_train,y_train)\n",
    "\n",
    "\n",
    "y_pred_train = gbr.predict(X_train)\n",
    "gbr_mse, gbr_rmse, gbr_mae, gbr_r2 = evaluate_regression(y_train, y_pred_train)\n",
    "print('[GBR x and y] test on train dataset')\n",
    "print('mse: ', gbr_mse)\n",
    "print('rmse: ', gbr_rmse)\n",
    "print('mae: ', gbr_mae)\n",
    "print('r2: ', gbr_r2)\n",
    "\n",
    "y_pred_test = gbr.predict(X_test)\n",
    "gbr_mse, gbr_rmse, gbr_mae, gbr_r2 = evaluate_regression(y_test, y_pred_test)\n",
    "print('[GBR x and y] test on test dataset')\n",
    "print('mse: ', gbr_mse)\n",
    "print('rmse: ', gbr_rmse)\n",
    "print('mae: ', gbr_mae)\n",
    "print('r2: ', gbr_r2)\n",
    "\n",
    "# calculate the accuary with metric\n",
    "y_pred2 = y_pred_test.copy()\n",
    "y_test2 = y_test.copy()\n",
    "y_pred2[y_pred2 <= mertic] = 0\n",
    "y_pred2[y_pred2 > mertic] = 1\n",
    "y_test2[np.float64(y_test2) <= mertic] = 0\n",
    "y_test2[np.float64(y_test2) > mertic] = 1\n",
    "accuracy = np.sum(y_pred2 == y_test2) / len(y_test2)\n",
    "\n",
    "print(\"ratio:\",len(y_pred2[y_pred2 == 1]) / len(y_pred2))\n",
    "\n",
    "\n",
    "print('accuracy: ', accuracy)\n",
    "        \n",
    "# get the idx, where y_pred2 == 1 at the same place\n",
    "idx_lower = test_idx[y_pred2 == 0]\n",
    "idx_higher = test_idx[y_pred2 == 1]\n",
    "\n",
    "idx_lower = np.array(idx_lower, dtype=np.int32)\n",
    "idx_higher = np.array(idx_higher, dtype=np.int32)\n",
    "\n",
    "print(\"lower count:\", len(idx_lower), \"; all count:\",  len(y_test))"
   ]
  },
  {
   "cell_type": "code",
   "execution_count": 346,
   "metadata": {},
   "outputs": [
    {
     "data": {
      "text/plain": [
       "(3169, 207)"
      ]
     },
     "execution_count": 346,
     "metadata": {},
     "output_type": "execute_result"
    }
   ],
   "source": [
    "len(idx_lower), len(idx_higher)"
   ]
  },
  {
   "cell_type": "code",
   "execution_count": 347,
   "metadata": {},
   "outputs": [],
   "source": [
    "# S2\n",
    "PF_ALPHA = 1.5\n",
    "PF_K = 1.0\n",
    "PF_D = 1E5\n",
    "PF_H = 0.5\n",
    "PF_RANGE = 60\n",
    "\n",
    "def function_S2(dist, mesh, bbox_size):\n",
    "    l = dist / PF_RANGE\n",
    "    score = (dist**2 * mesh / (bbox_size*np.sqrt(bbox_size))) / (PF_D * (l * np.log(l)+ PF_H))\n",
    "    return score\n",
    "\n",
    "\n",
    "car_df = pd.DataFrame(columns=['dist', 'mesh', 'bbox_size', 'frame_id'])\n",
    "truck_df = pd.DataFrame(columns=['dist', 'mesh', 'bbox_size', 'frame_id'])\n",
    "van_df = pd.DataFrame(columns=['dist', 'mesh', 'bbox_size', 'frame_id'])\n",
    "\n",
    "for i in range(len(selected_set)):\n",
    "    time_dirc = selected_set[i]\n",
    "    sem_pt_path = '/home/newDisk/tool/carla_dataset_tool/raw_data/record_2024_'+time_dirc+'/vehicle.tesla.model3.master/velodyne_semantic/'\n",
    "    file_list = os.listdir(sem_pt_path)\n",
    "    file_list = [f for f in file_list if f.endswith('.txt')]\n",
    "    file_list.sort()\n",
    "\n",
    "    for file in file_list:\n",
    "        with open(sem_pt_path+file) as f:\n",
    "            lines = f.readlines()[:-1]\n",
    "\n",
    "            for line in lines:\n",
    "                line = line.strip().split()\n",
    "                if line[7] == 'Car':\n",
    "                    cy, cz, cx = np.float64(line[0]), np.float64(line[1]), np.float64(line[2])\n",
    "                    sy, sx ,sz = np.float64(line[3]), np.float64(line[4]), np.float64(line[5])\n",
    "                    dist = np.sqrt(cx**2 + cy**2 + (cz-0.5*sz)**2)\n",
    "                    if dist < PF_RANGE:\n",
    "                        mesh = min(2000, np.float64(line[8]))\n",
    "                        bbox_size = np.sqrt(sx**2 + sy**2 + sz**2)\n",
    "                        new_row = pd.Series({'dist': dist, 'mesh': mesh, 'bbox_size': bbox_size, 'frame_id': int(str(i)+file[-9:-4])})\n",
    "                        car_df = pd.concat([car_df, new_row.to_frame().T], ignore_index=True)\n",
    "                elif line[7] == 'Truck':\n",
    "                    cy, cz, cx = np.float64(line[0]), np.float64(line[1]), np.float64(line[2])\n",
    "                    sy, sx ,sz = np.float64(line[3]), np.float64(line[4]), np.float64(line[5])\n",
    "                    dist = np.sqrt(cx**2 + cy**2 + (cz-0.5*sz)**2)\n",
    "                    if dist < PF_RANGE:\n",
    "                        mesh = min(2000, np.float64(line[8]))\n",
    "                        bbox_size = np.sqrt(sx**2 + sy**2 + sz**2)\n",
    "                        new_row = pd.Series({'dist': dist, 'mesh': mesh, 'bbox_size': bbox_size, 'frame_id': int(str(i)+file[-9:-4])})\n",
    "                        truck_df = pd.concat([truck_df, new_row.to_frame().T], ignore_index=True)\n",
    "                elif line[7] == 'Van':\n",
    "                    cy, cz, cx = np.float64(line[0]), np.float64(line[1]), np.float64(line[2])\n",
    "                    sy, sx ,sz = np.float64(line[3]), np.float64(line[4]), np.float64(line[5])\n",
    "                    dist = np.sqrt(cx**2 + cy**2 + (cz-0.5*sz)**2)\n",
    "                    if dist< PF_RANGE:\n",
    "                        mesh = min(2000, np.float64(line[8]))\n",
    "                        bbox_size = np.sqrt(sx**2 + sy**2 + sz**2)\n",
    "                        new_row = pd.Series({'dist': dist, 'mesh': mesh, 'bbox_size': bbox_size, 'frame_id': int(str(i)+file[-9:-4])})\n",
    "                        van_df = pd.concat([van_df, new_row.to_frame().T], ignore_index=True)"
   ]
  },
  {
   "cell_type": "code",
   "execution_count": 348,
   "metadata": {},
   "outputs": [
    {
     "data": {
      "text/plain": [
       "((9898, 4), (3633, 4), (273, 4))"
      ]
     },
     "execution_count": 348,
     "metadata": {},
     "output_type": "execute_result"
    }
   ],
   "source": [
    "car_df.shape, truck_df.shape, van_df.shape"
   ]
  },
  {
   "cell_type": "code",
   "execution_count": 349,
   "metadata": {},
   "outputs": [
    {
     "data": {
      "text/plain": [
       "((6789, 4), (2449, 4), (211, 4))"
      ]
     },
     "execution_count": 349,
     "metadata": {},
     "output_type": "execute_result"
    }
   ],
   "source": [
    "# only keep the frame id that is in idx_lower \n",
    "car_df2 = car_df[car_df['frame_id'].isin(idx_lower)]\n",
    "truck_df2 = truck_df[truck_df['frame_id'].isin(idx_lower)]\n",
    "van_df2 = van_df[van_df['frame_id'].isin(idx_lower)]\n",
    "\n",
    "car_df2.shape, truck_df2.shape, van_df2.shape"
   ]
  },
  {
   "cell_type": "code",
   "execution_count": 350,
   "metadata": {},
   "outputs": [
    {
     "name": "stderr",
     "output_type": "stream",
     "text": [
      "/tmp/ipykernel_59516/2141701409.py:6: SettingWithCopyWarning: \n",
      "A value is trying to be set on a copy of a slice from a DataFrame.\n",
      "Try using .loc[row_indexer,col_indexer] = value instead\n",
      "\n",
      "See the caveats in the documentation: https://pandas.pydata.org/pandas-docs/stable/user_guide/indexing.html#returning-a-view-versus-a-copy\n",
      "  car_df2.loc[:,'score'] = car_score\n",
      "/tmp/ipykernel_59516/2141701409.py:7: SettingWithCopyWarning: \n",
      "A value is trying to be set on a copy of a slice from a DataFrame.\n",
      "Try using .loc[row_indexer,col_indexer] = value instead\n",
      "\n",
      "See the caveats in the documentation: https://pandas.pydata.org/pandas-docs/stable/user_guide/indexing.html#returning-a-view-versus-a-copy\n",
      "  truck_df2.loc[:,'score'] = truck_score\n",
      "/tmp/ipykernel_59516/2141701409.py:8: SettingWithCopyWarning: \n",
      "A value is trying to be set on a copy of a slice from a DataFrame.\n",
      "Try using .loc[row_indexer,col_indexer] = value instead\n",
      "\n",
      "See the caveats in the documentation: https://pandas.pydata.org/pandas-docs/stable/user_guide/indexing.html#returning-a-view-versus-a-copy\n",
      "  van_df2.loc[:,'score'] = van_score\n",
      "/tmp/ipykernel_59516/2141701409.py:11: SettingWithCopyWarning: \n",
      "A value is trying to be set on a copy of a slice from a DataFrame.\n",
      "Try using .loc[row_indexer,col_indexer] = value instead\n",
      "\n",
      "See the caveats in the documentation: https://pandas.pydata.org/pandas-docs/stable/user_guide/indexing.html#returning-a-view-versus-a-copy\n",
      "  car_df2['frame_id'] = car_df2['frame_id'].astype(np.int32)\n",
      "/tmp/ipykernel_59516/2141701409.py:12: SettingWithCopyWarning: \n",
      "A value is trying to be set on a copy of a slice from a DataFrame.\n",
      "Try using .loc[row_indexer,col_indexer] = value instead\n",
      "\n",
      "See the caveats in the documentation: https://pandas.pydata.org/pandas-docs/stable/user_guide/indexing.html#returning-a-view-versus-a-copy\n",
      "  truck_df2['frame_id'] = truck_df2['frame_id'].astype(np.int32)\n",
      "/tmp/ipykernel_59516/2141701409.py:13: SettingWithCopyWarning: \n",
      "A value is trying to be set on a copy of a slice from a DataFrame.\n",
      "Try using .loc[row_indexer,col_indexer] = value instead\n",
      "\n",
      "See the caveats in the documentation: https://pandas.pydata.org/pandas-docs/stable/user_guide/indexing.html#returning-a-view-versus-a-copy\n",
      "  van_df2['frame_id'] = van_df2['frame_id'].astype(np.int32)\n"
     ]
    },
    {
     "data": {
      "text/html": [
       "<div>\n",
       "<style scoped>\n",
       "    .dataframe tbody tr th:only-of-type {\n",
       "        vertical-align: middle;\n",
       "    }\n",
       "\n",
       "    .dataframe tbody tr th {\n",
       "        vertical-align: top;\n",
       "    }\n",
       "\n",
       "    .dataframe thead th {\n",
       "        text-align: right;\n",
       "    }\n",
       "</style>\n",
       "<table border=\"1\" class=\"dataframe\">\n",
       "  <thead>\n",
       "    <tr style=\"text-align: right;\">\n",
       "      <th></th>\n",
       "      <th>dist</th>\n",
       "      <th>mesh</th>\n",
       "      <th>bbox_size</th>\n",
       "      <th>frame_id</th>\n",
       "      <th>score</th>\n",
       "    </tr>\n",
       "  </thead>\n",
       "  <tbody>\n",
       "    <tr>\n",
       "      <th>2</th>\n",
       "      <td>50.485429</td>\n",
       "      <td>90.0</td>\n",
       "      <td>5.326633</td>\n",
       "      <td>13121</td>\n",
       "      <td>0.526029</td>\n",
       "    </tr>\n",
       "    <tr>\n",
       "      <th>3</th>\n",
       "      <td>47.280516</td>\n",
       "      <td>100.0</td>\n",
       "      <td>5.326633</td>\n",
       "      <td>13124</td>\n",
       "      <td>0.582330</td>\n",
       "    </tr>\n",
       "    <tr>\n",
       "      <th>4</th>\n",
       "      <td>44.922439</td>\n",
       "      <td>134.0</td>\n",
       "      <td>5.326633</td>\n",
       "      <td>13127</td>\n",
       "      <td>0.776385</td>\n",
       "    </tr>\n",
       "    <tr>\n",
       "      <th>5</th>\n",
       "      <td>42.364009</td>\n",
       "      <td>138.0</td>\n",
       "      <td>5.326633</td>\n",
       "      <td>13130</td>\n",
       "      <td>0.792358</td>\n",
       "    </tr>\n",
       "    <tr>\n",
       "      <th>6</th>\n",
       "      <td>40.770067</td>\n",
       "      <td>138.0</td>\n",
       "      <td>5.326633</td>\n",
       "      <td>13133</td>\n",
       "      <td>0.785820</td>\n",
       "    </tr>\n",
       "  </tbody>\n",
       "</table>\n",
       "</div>"
      ],
      "text/plain": [
       "        dist   mesh  bbox_size  frame_id     score\n",
       "2  50.485429   90.0   5.326633     13121  0.526029\n",
       "3  47.280516  100.0   5.326633     13124  0.582330\n",
       "4  44.922439  134.0   5.326633     13127  0.776385\n",
       "5  42.364009  138.0   5.326633     13130  0.792358\n",
       "6  40.770067  138.0   5.326633     13133  0.785820"
      ]
     },
     "execution_count": 350,
     "metadata": {},
     "output_type": "execute_result"
    }
   ],
   "source": [
    "car_score = function_S2(car_df2['dist'], car_df2['mesh'], car_df2['bbox_size'])\n",
    "truck_score = function_S2(truck_df2['dist'], truck_df2['mesh'], truck_df2['bbox_size'])\n",
    "van_score = function_S2(van_df2['dist'], van_df2['mesh'], van_df2['bbox_size'])\n",
    "\n",
    "# use .loc save the score to a new column, type is np.float64\n",
    "car_df2.loc[:,'score'] = car_score\n",
    "truck_df2.loc[:,'score'] = truck_score\n",
    "van_df2.loc[:,'score'] = van_score\n",
    "\n",
    "# frame_id to type int32\n",
    "car_df2['frame_id'] = car_df2['frame_id'].astype(np.int32)\n",
    "truck_df2['frame_id'] = truck_df2['frame_id'].astype(np.int32)\n",
    "van_df2['frame_id'] = van_df2['frame_id'].astype(np.int32)\n",
    "\n",
    "car_df2.head()"
   ]
  },
  {
   "cell_type": "code",
   "execution_count": 351,
   "metadata": {},
   "outputs": [
    {
     "name": "stdout",
     "output_type": "stream",
     "text": [
      "(2328, 4) (1378, 4) (211, 4)\n",
      "[229445  13412 228809 ... 403861 228953 123101]\n",
      "(2328, 2)\n"
     ]
    }
   ],
   "source": [
    "car_df3 = car_df2.groupby('frame_id').sum()\n",
    "truck_df3 = truck_df2.groupby('frame_id').sum()\n",
    "van_df3 = van_df2.groupby('frame_id').sum()\n",
    "\n",
    "print(car_df3.shape, truck_df3.shape, van_df3.shape)\n",
    "print(idx_lower)\n",
    "\n",
    "# sum three types vehicle score by frame id, save frame id and score at a new dataframe\n",
    "vehicle_df = pd.DataFrame(columns=['frame_id', 'score'])\n",
    "for frame_id in car_df3.index:\n",
    "    # get score use index\n",
    "    car_score = car_df3.loc[frame_id]['score']\n",
    "    if frame_id in truck_df3.index:\n",
    "        truck_score = truck_df3.loc[frame_id]['score']\n",
    "    else:\n",
    "        truck_score = 0\n",
    "\n",
    "    if frame_id in van_df3.index:\n",
    "        van_score = van_df3.loc[frame_id]['score']\n",
    "    else:\n",
    "        van_score = 0\n",
    "\n",
    "    score = car_score + truck_score + van_score\n",
    "    \n",
    "    new_row = pd.Series({'frame_id': frame_id, 'score': score})\n",
    "    vehicle_df = pd.concat([vehicle_df, new_row.to_frame().T], ignore_index=True)\n",
    "\n",
    "print(vehicle_df.shape)"
   ]
  },
  {
   "cell_type": "code",
   "execution_count": 352,
   "metadata": {},
   "outputs": [
    {
     "name": "stderr",
     "output_type": "stream",
     "text": [
      "/tmp/ipykernel_59516/2683256851.py:2: UserWarning: \n",
      "\n",
      "`distplot` is a deprecated function and will be removed in seaborn v0.14.0.\n",
      "\n",
      "Please adapt your code to use either `displot` (a figure-level function with\n",
      "similar flexibility) or `histplot` (an axes-level function for histograms).\n",
      "\n",
      "For a guide to updating your code to use the new functions, please see\n",
      "https://gist.github.com/mwaskom/de44147ed2974457ad6372750bbe5751\n",
      "\n",
      "  sns.distplot(vehicle_df['score'])\n"
     ]
    },
    {
     "data": {
      "text/plain": [
       "<Axes: xlabel='score', ylabel='Density'>"
      ]
     },
     "execution_count": 352,
     "metadata": {},
     "output_type": "execute_result"
    },
    {
     "data": {
      "image/png": "[encoded data removed]",
      "text/plain": [
       "<Figure size 640x480 with 1 Axes>"
      ]
     },
     "metadata": {},
     "output_type": "display_data"
    }
   ],
   "source": [
    "# visualize the distribution of score\n",
    "sns.distplot(vehicle_df['score'])"
   ]
  },
  {
   "cell_type": "code",
   "execution_count": 353,
   "metadata": {},
   "outputs": [
    {
     "name": "stdout",
     "output_type": "stream",
     "text": [
      "0.04633659984141277 16.823776745266848\n",
      "S2 spilt 0.14991408934707903\n",
      "S1S2 spilt 0.586196682464455\n",
      "all frame count 3030\n"
     ]
    }
   ],
   "source": [
    "print(vehicle_df['score'].min(), vehicle_df['score'].max())\n",
    "\n",
    "ratio = len(vehicle_df[vehicle_df['score'] < mertic2]) / len(vehicle_df)\n",
    "print(\"S2 spilt\",ratio)\n",
    "\n",
    "idx_test = vehicle_df[vehicle_df['score'] > mertic2].values\n",
    "idx_test = np.int32(idx_test[:,0])\n",
    "\n",
    "idx_test = np.array(idx_test, dtype=np.int32)\n",
    "print(\"S1S2 spilt\", len(idx_test) / len(y_test))\n",
    "\n",
    "print(\"all frame count\", len(train_idx)+ len(idx_test) + len(idx_higher))"
   ]
  },
  {
   "cell_type": "code",
   "execution_count": 354,
   "metadata": {},
   "outputs": [
    {
     "name": "stdout",
     "output_type": "stream",
     "text": [
      "3030\n"
     ]
    }
   ],
   "source": [
    "# frame_id = train_idx + test_idx, write to imageset\n",
    "\n",
    "# if cnt in train_list is a 5 digit number, add 0 before it\n",
    "idx_test = np.array(idx_test, dtype=np.int32)\n",
    "idx_test = np.array(['0'+str(i) if len(str(i)) == 5 else str(i) for i in idx_test])\n",
    "\n",
    "train_list = train_idx.tolist() + idx_test.tolist() + idx_higher.tolist()\n",
    "train_list = np.array(train_list, dtype=np.int32)\n",
    "train_list = np.array(['0'+str(i) if len(str(i)) == 5 else str(i) for i in train_list])\n",
    "\n",
    "# str the train_list\n",
    "train_list.sort()\n",
    "\n",
    "print(len(train_list))\n",
    "\n",
    "test_list = []\n",
    "val_list = []\n",
    "test_spilt = 12\n",
    "val_spilt = 15\n",
    "\n",
    "\n",
    "\n",
    "\n",
    "# idx should not has element in empty_file\n",
    "for id in empty_file:\n",
    "    if id in train_list:\n",
    "        train_list.remove(id)\n",
    "\n",
    "train_path = './imagesets/B/train.txt'\n",
    "test_path = './imagesets/B/test.txt'\n",
    "val_path = './imagesets/B/val.txt'\n",
    "\n",
    "\n",
    "for i in range(len(train_list)):\n",
    "    if i % test_spilt == 0:\n",
    "        test_list.append(train_list[i])\n",
    "        \n",
    "        train_list[i] = 'none'\n",
    "    if i % val_spilt == 0:\n",
    "        val_list.append(train_list[i])\n",
    "        train_list[i] = 'none'\n",
    "\n",
    "train_list = [x for x in train_list if x != 'none']\n",
    "val_list = [x for x in val_list if x != 'none']\n",
    "\n",
    "with open(train_path, 'w') as f:\n",
    "    for item in train_list:\n",
    "        f.write(\"%s\\n\" % item)\n",
    "\n",
    "with open(test_path, 'w') as f:\n",
    "    for item in test_list:\n",
    "        f.write(\"%s\\n\" % item)\n",
    "\n",
    "with open(val_path, 'w') as f:\n",
    "    for item in val_list:\n",
    "        f.write(\"%s\\n\" % item)"
   ]
  },
  {
   "cell_type": "code",
   "execution_count": 355,
   "metadata": {},
   "outputs": [
    {
     "data": {
      "text/plain": [
       "array(['013121', '013124', '013127', ..., '406018', '406021', '406024'],\n",
       "      dtype='<U6')"
      ]
     },
     "execution_count": 355,
     "metadata": {},
     "output_type": "execute_result"
    }
   ],
   "source": [
    "idx_test"
   ]
  }
 ],
 "metadata": {
  "kernelspec": {
   "display_name": "carla15",
   "language": "python",
   "name": "python3"
  },
  "language_info": {
   "codemirror_mode": {
    "name": "ipython",
    "version": 3
   },
   "file_extension": ".py",
   "mimetype": "text/x-python",
   "name": "python",
   "nbconvert_exporter": "python",
   "pygments_lexer": "ipython3",
   "version": "3.8.18"
  },
  "orig_nbformat": 4
 },
 "nbformat": 4,
 "nbformat_minor": 2
}
