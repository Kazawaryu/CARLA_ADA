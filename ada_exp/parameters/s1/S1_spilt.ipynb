{
 "cells": [
  {
   "cell_type": "code",
   "execution_count": 148,
   "metadata": {},
   "outputs": [],
   "source": [
    "import os\n",
    "import numpy as np\n",
    "import pandas as pd\n",
    "import seaborn as sns\n",
    "import matplotlib.pyplot as plt\n",
    "from sklearn.ensemble import GradientBoostingRegressor\n",
    "from sklearn.model_selection import train_test_split\n",
    "from sklearn.metrics import mean_squared_error, mean_absolute_error, r2_score\n",
    "\n",
    "set_label = ['50-25','75-37','100-50','125-67','150-75']\n",
    "set_A_05 = ['1226_1700', '1226_1713', '1226_1727', '1226_1741', '1226_1756']\n",
    "set_B_02 = ['0104_2223', '0104_2309', '0104_2328', '0104_2343', '0105_0013']\n",
    "set_D_06 = ['0104_1949', '0104_2002', '0104_2016', '0104_2032', '0104_2056']\n",
    "\n",
    "subset = set_B_02\n",
    "set_name = './imagesets/B_S1_0.08.txt'\n",
    "# B:8.04% -> 1.1\n",
    "# D:9.15% -> 0.8"
   ]
  },
  {
   "cell_type": "code",
   "execution_count": 149,
   "metadata": {},
   "outputs": [],
   "source": [
    "# df = pd.read_csv(s1s2_path)\n",
    "# X = np.array([df['scan_enp'], df['bev_enp']]).T\n",
    "# y = np.array(df['s1_gt'])\n",
    "\n",
    "# X_train, X_test, y_train, y_test = train_test_split(X, y, test_size=0.8, random_state=42)\n",
    "\n",
    "def evaluate_regression(y_test, y_pred):\n",
    "    mse = mean_squared_error(y_test, y_pred)\n",
    "    rmse = mean_squared_error(y_test, y_pred, squared=False)\n",
    "    mae = mean_absolute_error(y_test, y_pred)\n",
    "    r2 = r2_score(y_test, y_pred)\n",
    "    \n",
    "    return mse, rmse, mae, r2"
   ]
  },
  {
   "cell_type": "code",
   "execution_count": 150,
   "metadata": {},
   "outputs": [],
   "source": [
    "idx, scan_entropy_list, bev_entropy_list, pf_scalar_list, pf_vector_list, s1_gt =[], [], [], [], [], []\n",
    "empty_file = []\n",
    "sub_cnt = 0\n",
    "for time_dirc in subset:\n",
    "    sem_pt_path = '/home/newDisk/tool/carla_dataset_tool/raw_data/record_2024_'+time_dirc+'/vehicle.tesla.model3.master/velodyne_semantic/'\n",
    "    file_list = os.listdir(sem_pt_path)\n",
    "    file_list = [f for f in file_list if f.endswith('.txt')]\n",
    "    file_list.sort()\n",
    "\n",
    "    for file_name in file_list:\n",
    "        gt = 0\n",
    "        with open(sem_pt_path+file_name, 'r') as f:\n",
    "            lines = f.readlines()\n",
    "            last_line = lines[-1]\n",
    "            if len(lines) ==1:\n",
    "                empty_file.append(str(sub_cnt)+file_name[-9:-4])\n",
    "            else:\n",
    "                scores = last_line.split(' ')\n",
    "                s1_gt.append(scores[0])\n",
    "                scan_entropy_list.append(np.float64(scores[1]))\n",
    "                bev_entropy_list.append(np.float64(scores[2]))\n",
    "                pf_scalar_list.append(np.float64(scores[3]))\n",
    "                pf_vector_list.append(np.float64(scores[4].replace('\\n','')))\n",
    "                idx.append(str(sub_cnt)+file_name[-9:-4])\n",
    "\n",
    "    sub_cnt += 1\n"
   ]
  },
  {
   "cell_type": "code",
   "execution_count": 151,
   "metadata": {},
   "outputs": [
    {
     "data": {
      "text/plain": [
       "4658"
      ]
     },
     "execution_count": 151,
     "metadata": {},
     "output_type": "execute_result"
    }
   ],
   "source": [
    "len(scan_entropy_list)"
   ]
  },
  {
   "cell_type": "code",
   "execution_count": 152,
   "metadata": {},
   "outputs": [],
   "source": [
    "df = pd.DataFrame({'idx':idx, 'scan_enp':scan_entropy_list, 'bev_enp':bev_entropy_list, 'pf_scalar':pf_scalar_list, 'pf_vector':pf_vector_list, 's1_gt':s1_gt})\n",
    "X = np.array([df['scan_enp'], df['bev_enp'],df['idx']]).T\n",
    "y = np.array(df['s1_gt'])\n",
    "\n",
    "X_train, X_test, y_train, y_test = train_test_split(X, y, test_size=0.8, random_state=42)\n",
    "\n",
    "train_idx = X_train[:,-1]\n",
    "test_idx = X_test[:,-1]\n",
    "X_train = X_train[:,:-1]\n",
    "X_test = X_test[:,:-1]\n",
    "\n",
    "# sns.scatterplot(x=bev_entropy_list, y=s1_gt)"
   ]
  },
  {
   "cell_type": "code",
   "execution_count": 153,
   "metadata": {},
   "outputs": [
    {
     "name": "stdout",
     "output_type": "stream",
     "text": [
      "931 3727 1.1\n"
     ]
    },
    {
     "name": "stdout",
     "output_type": "stream",
     "text": [
      "[GBR x and y] test on train dataset\n",
      "mse:  2.1189078522767715\n",
      "rmse:  1.4556468844732817\n",
      "mae:  0.7903050667500368\n",
      "r2:  0.7627184542263621\n",
      "[GBR x and y] test on test dataset\n",
      "mse:  5.312919396041059\n",
      "rmse:  2.304977092302884\n",
      "mae:  1.4923082701282764\n",
      "r2:  0.3897560535700091\n",
      "0.08049369466058492\n",
      "accuracy:  0.813254628387443\n",
      "3427 3727\n"
     ]
    }
   ],
   "source": [
    "mertic = 1.1\n",
    "print(len(X_train), len(X_test), mertic)\n",
    "\n",
    "gbr = GradientBoostingRegressor(loss='huber',learning_rate=0.2,n_estimators=100, min_samples_leaf=10, max_depth=10, max_features=15, random_state=42)\n",
    "gbr.fit(X_train,y_train)\n",
    "\n",
    "\n",
    "y_pred_train = gbr.predict(X_train)\n",
    "gbr_mse, gbr_rmse, gbr_mae, gbr_r2 = evaluate_regression(y_train, y_pred_train)\n",
    "print('[GBR x and y] test on train dataset')\n",
    "print('mse: ', gbr_mse)\n",
    "print('rmse: ', gbr_rmse)\n",
    "print('mae: ', gbr_mae)\n",
    "print('r2: ', gbr_r2)\n",
    "\n",
    "y_pred_test = gbr.predict(X_test)\n",
    "gbr_mse, gbr_rmse, gbr_mae, gbr_r2 = evaluate_regression(y_test, y_pred_test)\n",
    "print('[GBR x and y] test on test dataset')\n",
    "print('mse: ', gbr_mse)\n",
    "print('rmse: ', gbr_rmse)\n",
    "print('mae: ', gbr_mae)\n",
    "print('r2: ', gbr_r2)\n",
    "\n",
    "# calculate the accuary with metric\n",
    "y_pred2 = y_pred_test.copy()\n",
    "y_test2 = y_test.copy()\n",
    "y_pred2[y_pred2 <= mertic] = 0\n",
    "y_pred2[y_pred2 > mertic] = 1\n",
    "y_test2[np.float64(y_test2) <= mertic] = 0\n",
    "y_test2[np.float64(y_test2) > mertic] = 1\n",
    "accuracy = np.sum(y_pred2 == y_test2) / len(y_test2)\n",
    "\n",
    "print(len(y_pred2[y_pred2 == 0]) / len(y_pred2))\n",
    "\n",
    "\n",
    "print('accuracy: ', accuracy)\n",
    "        \n",
    "# get the idx, where y_pred2 == 1 at the same place\n",
    "idx_test = test_idx[y_pred2 == 1]\n",
    "\n",
    "print(len(idx_test), len(y_test))\n"
   ]
  },
  {
   "cell_type": "code",
   "execution_count": 154,
   "metadata": {},
   "outputs": [],
   "source": [
    "# frame_id = train_idx + test_idx, write to imageset\n",
    "train_list = train_idx.tolist() + idx_test.tolist()\n",
    "train_list.sort()\n",
    "\n",
    "test_list = []\n",
    "val_list = []\n",
    "test_spilt = 12\n",
    "val_spilt = 15\n",
    "\n",
    "# idx should not has element in empty_file\n",
    "for id in empty_file:\n",
    "    if id in train_list:\n",
    "        train_list.remove(id)\n",
    "\n",
    "train_path = './imagesets/B/train.txt'\n",
    "test_path = './imagesets/B/test.txt'\n",
    "val_path = './imagesets/B/val.txt'\n",
    "\n",
    "\n",
    "for i in range(len(train_list)):\n",
    "    if i % test_spilt == 0:\n",
    "        test_list.append(train_list[i])\n",
    "        train_list[i] = 'none'\n",
    "    if i % val_spilt == 0:\n",
    "        val_list.append(train_list[i])\n",
    "        train_list[i] = 'none'\n",
    "\n",
    "train_list = [x for x in train_list if x != 'none']\n",
    "\n",
    "with open(train_path, 'w') as f:\n",
    "    for item in train_list:\n",
    "        f.write(\"%s\\n\" % item)\n",
    "\n",
    "with open(test_path, 'w') as f:\n",
    "    for item in test_list:\n",
    "        f.write(\"%s\\n\" % item)\n",
    "\n",
    "with open(val_path, 'w') as f:\n",
    "    for item in val_list:\n",
    "        f.write(\"%s\\n\" % item)"
   ]
  }
 ],
 "metadata": {
  "kernelspec": {
   "display_name": "carla15",
   "language": "python",
   "name": "python3"
  },
  "language_info": {
   "codemirror_mode": {
    "name": "ipython",
    "version": 3
   },
   "file_extension": ".py",
   "mimetype": "text/x-python",
   "name": "python",
   "nbconvert_exporter": "python",
   "pygments_lexer": "ipython3",
   "version": "3.8.18"
  },
  "orig_nbformat": 4
 },
 "nbformat": 4,
 "nbformat_minor": 2
}
