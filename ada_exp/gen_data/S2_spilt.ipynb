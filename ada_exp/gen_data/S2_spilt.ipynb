{
 "cells": [
  {
   "cell_type": "code",
   "execution_count": 143,
   "metadata": {},
   "outputs": [],
   "source": [
    "import os\n",
    "import numpy as np\n",
    "import pandas as pd\n",
    "import seaborn as sns\n",
    "import matplotlib.pyplot as plt\n",
    "from sklearn.ensemble import GradientBoostingRegressor\n",
    "from sklearn.model_selection import train_test_split\n",
    "from sklearn.metrics import mean_squared_error, mean_absolute_error, r2_score\n",
    "\n",
    "set_label = ['50-25','75-37','100-50','125-67','150-75']\n",
    "set_A_05 = ['1226_1700', '1226_1713', '1226_1727', '1226_1741', '1226_1756']\n",
    "set_B_02 = ['0104_2223', '0104_2309', '0104_2328', '0104_2343', '0105_0013']\n",
    "set_C_10 = ['0116_0117', '0116_0125', '0116_0132', '0116_0140', '0116_0149']\n",
    "set_D_06 = ['0104_1949', '0104_2002', '0104_2016', '0104_2032', '0104_2056']\n",
    "\n",
    "selected_set = set_B_02\n",
    "set_name = './imagesets/B_S1_0.08.txt'\n",
    "mertic = 7.5\n",
    "mertic2 = 2.4\n",
    "# B:8.04% -> 1.1\n",
    "# D:9.15% -> 0.8"
   ]
  },
  {
   "cell_type": "code",
   "execution_count": 144,
   "metadata": {},
   "outputs": [],
   "source": [
    "# df = pd.read_csv(s1s2_path)\n",
    "# X = np.array([df['scan_enp'], df['bev_enp']]).T\n",
    "# y = np.array(df['s1_gt'])\n",
    "\n",
    "# X_train, X_test, y_train, y_test = train_test_split(X, y, test_size=0.8, random_state=42)\n",
    "\n",
    "def evaluate_regression(y_test, y_pred):\n",
    "    mse = mean_squared_error(y_test, y_pred)\n",
    "    rmse = mean_squared_error(y_test, y_pred, squared=False)\n",
    "    mae = mean_absolute_error(y_test, y_pred)\n",
    "    r2 = r2_score(y_test, y_pred)\n",
    "    \n",
    "    return mse, rmse, mae, r2"
   ]
  },
  {
   "cell_type": "code",
   "execution_count": 145,
   "metadata": {},
   "outputs": [],
   "source": [
    "idx, scan_entropy_list, bev_entropy_list, pf_scalar_list, pf_vector_list, s1_gt =[], [], [], [], [], []\n",
    "empty_file = []\n",
    "sub_cnt = 0\n",
    "for time_dirc in selected_set:\n",
    "    sem_pt_path = '/home/newDisk/tool/carla_dataset_tool/raw_data/record_2024_'+time_dirc+'/vehicle.tesla.model3.master/velodyne_semantic/'\n",
    "    file_list = os.listdir(sem_pt_path)\n",
    "    file_list = [f for f in file_list if f.endswith('.txt')]\n",
    "    file_list.sort()\n",
    "\n",
    "    for file_name in file_list:\n",
    "        gt = 0\n",
    "        with open(sem_pt_path+file_name, 'r') as f:\n",
    "            lines = f.readlines()\n",
    "            last_line = lines[-1]\n",
    "            if len(lines) ==1:\n",
    "                empty_file.append(str(sub_cnt)+file_name[-9:-4])\n",
    "            else:\n",
    "                scores = last_line.split(' ')\n",
    "                s1_gt.append(scores[0])\n",
    "                scan_entropy_list.append(np.float64(scores[1]))\n",
    "                bev_entropy_list.append(np.float64(scores[2]))\n",
    "                pf_scalar_list.append(np.float64(scores[3]))\n",
    "                pf_vector_list.append(np.float64(scores[4].replace('\\n','')))\n",
    "                idx.append(str(sub_cnt)+file_name[-9:-4])\n",
    "\n",
    "    sub_cnt += 1\n"
   ]
  },
  {
   "cell_type": "code",
   "execution_count": 146,
   "metadata": {},
   "outputs": [
    {
     "data": {
      "text/plain": [
       "4658"
      ]
     },
     "execution_count": 146,
     "metadata": {},
     "output_type": "execute_result"
    }
   ],
   "source": [
    "len(scan_entropy_list)"
   ]
  },
  {
   "cell_type": "code",
   "execution_count": 147,
   "metadata": {},
   "outputs": [],
   "source": [
    "df = pd.DataFrame({'idx':idx, 'scan_enp':scan_entropy_list, 'bev_enp':bev_entropy_list, 'pf_scalar':pf_scalar_list, 'pf_vector':pf_vector_list, 's1_gt':s1_gt})\n",
    "X = np.array([df['scan_enp'], df['bev_enp'],df['idx']]).T\n",
    "y = np.array(df['s1_gt'])\n",
    "\n",
    "X_train, X_test, y_train, y_test = train_test_split(X, y, test_size=0.8, random_state=42)\n",
    "\n",
    "train_idx = X_train[:,-1]\n",
    "test_idx = X_test[:,-1]\n",
    "X_train = X_train[:,:-1]\n",
    "X_test = X_test[:,:-1]\n",
    "\n",
    "# sns.scatterplot(x=bev_entropy_list, y=s1_gt)"
   ]
  },
  {
   "cell_type": "code",
   "execution_count": 148,
   "metadata": {},
   "outputs": [
    {
     "name": "stdout",
     "output_type": "stream",
     "text": [
      "931 3727 7.5\n",
      "[GBR x and y] test on train dataset\n",
      "mse:  2.1189078522767715\n",
      "rmse:  1.4556468844732817\n",
      "mae:  0.7903050667500368\n",
      "r2:  0.7627184542263621\n",
      "[GBR x and y] test on test dataset\n",
      "mse:  5.312919396041059\n",
      "rmse:  2.304977092302884\n",
      "mae:  1.4923082701282764\n",
      "r2:  0.3897560535700091\n",
      "ratio: 0.11939898041320096\n",
      "accuracy:  0.9012610678830159\n",
      "lower count: 3282 ; all count: 3727\n"
     ]
    }
   ],
   "source": [
    "print(len(X_train), len(X_test), mertic)\n",
    "\n",
    "gbr = GradientBoostingRegressor(loss='huber',learning_rate=0.2,n_estimators=100, min_samples_leaf=10, max_depth=10, max_features=15, random_state=42)\n",
    "gbr.fit(X_train,y_train)\n",
    "\n",
    "\n",
    "y_pred_train = gbr.predict(X_train)\n",
    "gbr_mse, gbr_rmse, gbr_mae, gbr_r2 = evaluate_regression(y_train, y_pred_train)\n",
    "print('[GBR x and y] test on train dataset')\n",
    "print('mse: ', gbr_mse)\n",
    "print('rmse: ', gbr_rmse)\n",
    "print('mae: ', gbr_mae)\n",
    "print('r2: ', gbr_r2)\n",
    "\n",
    "y_pred_test = gbr.predict(X_test)\n",
    "gbr_mse, gbr_rmse, gbr_mae, gbr_r2 = evaluate_regression(y_test, y_pred_test)\n",
    "print('[GBR x and y] test on test dataset')\n",
    "print('mse: ', gbr_mse)\n",
    "print('rmse: ', gbr_rmse)\n",
    "print('mae: ', gbr_mae)\n",
    "print('r2: ', gbr_r2)\n",
    "\n",
    "# calculate the accuary with metric\n",
    "y_pred2 = y_pred_test.copy()\n",
    "y_test2 = y_test.copy()\n",
    "y_pred2[y_pred2 <= mertic] = 0\n",
    "y_pred2[y_pred2 > mertic] = 1\n",
    "y_test2[np.float64(y_test2) <= mertic] = 0\n",
    "y_test2[np.float64(y_test2) > mertic] = 1\n",
    "accuracy = np.sum(y_pred2 == y_test2) / len(y_test2)\n",
    "\n",
    "print(\"ratio:\",len(y_pred2[y_pred2 == 1]) / len(y_pred2))\n",
    "\n",
    "\n",
    "print('accuracy: ', accuracy)\n",
    "        \n",
    "# get the idx, where y_pred2 == 1 at the same place\n",
    "idx_lower = test_idx[y_pred2 == 0]\n",
    "idx_higher = test_idx[y_pred2 == 1]\n",
    "\n",
    "idx_lower = np.array(idx_lower, dtype=np.int32)\n",
    "idx_higher = np.array(idx_higher, dtype=np.int32)\n",
    "\n",
    "print(\"lower count:\", len(idx_lower), \"; all count:\",  len(y_test))\n"
   ]
  },
  {
   "cell_type": "code",
   "execution_count": 149,
   "metadata": {},
   "outputs": [
    {
     "data": {
      "text/plain": [
       "array([113259, 428996, 236581, ..., 113520, 115335, 235987], dtype=int32)"
      ]
     },
     "execution_count": 149,
     "metadata": {},
     "output_type": "execute_result"
    }
   ],
   "source": [
    "idx_lower"
   ]
  },
  {
   "cell_type": "code",
   "execution_count": 150,
   "metadata": {},
   "outputs": [],
   "source": [
    "# S2\n",
    "PF_ALPHA = 1.5\n",
    "PF_K = 1.0\n",
    "PF_D = 1E5\n",
    "PF_H = 0.5\n",
    "PF_RANGE = 60\n",
    "\n",
    "def function_S2(dist, mesh, bbox_size):\n",
    "    l = dist / PF_RANGE\n",
    "    score = (dist**2 * mesh / (bbox_size*np.sqrt(bbox_size))) / (PF_D * (l * np.log(l)+ PF_H))\n",
    "    return score\n",
    "\n",
    "\n",
    "car_df = pd.DataFrame(columns=['dist', 'mesh', 'bbox_size', 'frame_id'])\n",
    "truck_df = pd.DataFrame(columns=['dist', 'mesh', 'bbox_size', 'frame_id'])\n",
    "van_df = pd.DataFrame(columns=['dist', 'mesh', 'bbox_size', 'frame_id'])\n",
    "\n",
    "for i in range(len(selected_set)):\n",
    "    time_dirc = selected_set[i]\n",
    "    sem_pt_path = '/home/newDisk/tool/carla_dataset_tool/raw_data/record_2024_'+time_dirc+'/vehicle.tesla.model3.master/velodyne_semantic/'\n",
    "    file_list = os.listdir(sem_pt_path)\n",
    "    file_list = [f for f in file_list if f.endswith('.txt')]\n",
    "    file_list.sort()\n",
    "\n",
    "    for file in file_list:\n",
    "        with open(sem_pt_path+file) as f:\n",
    "            lines = f.readlines()[:-1]\n",
    "\n",
    "            for line in lines:\n",
    "                line = line.strip().split()\n",
    "                if line[7] == 'Car':\n",
    "                    cy, cz, cx = np.float64(line[0]), np.float64(line[1]), np.float64(line[2])\n",
    "                    sy, sx ,sz = np.float64(line[3]), np.float64(line[4]), np.float64(line[5])\n",
    "                    dist = np.sqrt(cx**2 + cy**2 + (cz-0.5*sz)**2)\n",
    "                    if dist < PF_RANGE:\n",
    "                        mesh = min(2000, np.float64(line[8]))\n",
    "                        bbox_size = np.sqrt(sx**2 + sy**2 + sz**2)\n",
    "                        new_row = pd.Series({'dist': dist, 'mesh': mesh, 'bbox_size': bbox_size, 'frame_id': int(str(i)+file[-9:-4])})\n",
    "                        car_df = pd.concat([car_df, new_row.to_frame().T], ignore_index=True)\n",
    "                elif line[7] == 'Truck':\n",
    "                    cy, cz, cx = np.float64(line[0]), np.float64(line[1]), np.float64(line[2])\n",
    "                    sy, sx ,sz = np.float64(line[3]), np.float64(line[4]), np.float64(line[5])\n",
    "                    dist = np.sqrt(cx**2 + cy**2 + (cz-0.5*sz)**2)\n",
    "                    if dist < PF_RANGE:\n",
    "                        mesh = min(2000, np.float64(line[8]))\n",
    "                        bbox_size = np.sqrt(sx**2 + sy**2 + sz**2)\n",
    "                        new_row = pd.Series({'dist': dist, 'mesh': mesh, 'bbox_size': bbox_size, 'frame_id': int(str(i)+file[-9:-4])})\n",
    "                        truck_df = pd.concat([truck_df, new_row.to_frame().T], ignore_index=True)\n",
    "                elif line[7] == 'Van':\n",
    "                    cy, cz, cx = np.float64(line[0]), np.float64(line[1]), np.float64(line[2])\n",
    "                    sy, sx ,sz = np.float64(line[3]), np.float64(line[4]), np.float64(line[5])\n",
    "                    dist = np.sqrt(cx**2 + cy**2 + (cz-0.5*sz)**2)\n",
    "                    if dist< PF_RANGE:\n",
    "                        mesh = min(2000, np.float64(line[8]))\n",
    "                        bbox_size = np.sqrt(sx**2 + sy**2 + sz**2)\n",
    "                        new_row = pd.Series({'dist': dist, 'mesh': mesh, 'bbox_size': bbox_size, 'frame_id': int(str(i)+file[-9:-4])})\n",
    "                        van_df = pd.concat([van_df, new_row.to_frame().T], ignore_index=True)"
   ]
  },
  {
   "cell_type": "code",
   "execution_count": 151,
   "metadata": {},
   "outputs": [
    {
     "data": {
      "text/plain": [
       "((15603, 4), (3580, 4), (332, 4))"
      ]
     },
     "execution_count": 151,
     "metadata": {},
     "output_type": "execute_result"
    }
   ],
   "source": [
    "car_df.shape, truck_df.shape, van_df.shape"
   ]
  },
  {
   "cell_type": "code",
   "execution_count": 152,
   "metadata": {},
   "outputs": [
    {
     "data": {
      "text/plain": [
       "((9954, 4), (2063, 4), (208, 4))"
      ]
     },
     "execution_count": 152,
     "metadata": {},
     "output_type": "execute_result"
    }
   ],
   "source": [
    "# only keep the frame id that is in idx_lower \n",
    "car_df2 = car_df[car_df['frame_id'].isin(idx_lower)]\n",
    "truck_df2 = truck_df[truck_df['frame_id'].isin(idx_lower)]\n",
    "van_df2 = van_df[van_df['frame_id'].isin(idx_lower)]\n",
    "\n",
    "car_df2.shape, truck_df2.shape, van_df2.shape"
   ]
  },
  {
   "cell_type": "code",
   "execution_count": 153,
   "metadata": {},
   "outputs": [
    {
     "name": "stderr",
     "output_type": "stream",
     "text": [
      "/tmp/ipykernel_59516/2141701409.py:6: SettingWithCopyWarning: \n",
      "A value is trying to be set on a copy of a slice from a DataFrame.\n",
      "Try using .loc[row_indexer,col_indexer] = value instead\n",
      "\n",
      "See the caveats in the documentation: https://pandas.pydata.org/pandas-docs/stable/user_guide/indexing.html#returning-a-view-versus-a-copy\n",
      "  car_df2.loc[:,'score'] = car_score\n",
      "/tmp/ipykernel_59516/2141701409.py:7: SettingWithCopyWarning: \n",
      "A value is trying to be set on a copy of a slice from a DataFrame.\n",
      "Try using .loc[row_indexer,col_indexer] = value instead\n",
      "\n",
      "See the caveats in the documentation: https://pandas.pydata.org/pandas-docs/stable/user_guide/indexing.html#returning-a-view-versus-a-copy\n",
      "  truck_df2.loc[:,'score'] = truck_score\n",
      "/tmp/ipykernel_59516/2141701409.py:8: SettingWithCopyWarning: \n",
      "A value is trying to be set on a copy of a slice from a DataFrame.\n",
      "Try using .loc[row_indexer,col_indexer] = value instead\n",
      "\n",
      "See the caveats in the documentation: https://pandas.pydata.org/pandas-docs/stable/user_guide/indexing.html#returning-a-view-versus-a-copy\n",
      "  van_df2.loc[:,'score'] = van_score\n",
      "/tmp/ipykernel_59516/2141701409.py:11: SettingWithCopyWarning: \n",
      "A value is trying to be set on a copy of a slice from a DataFrame.\n",
      "Try using .loc[row_indexer,col_indexer] = value instead\n",
      "\n",
      "See the caveats in the documentation: https://pandas.pydata.org/pandas-docs/stable/user_guide/indexing.html#returning-a-view-versus-a-copy\n",
      "  car_df2['frame_id'] = car_df2['frame_id'].astype(np.int32)\n",
      "/tmp/ipykernel_59516/2141701409.py:12: SettingWithCopyWarning: \n",
      "A value is trying to be set on a copy of a slice from a DataFrame.\n",
      "Try using .loc[row_indexer,col_indexer] = value instead\n",
      "\n",
      "See the caveats in the documentation: https://pandas.pydata.org/pandas-docs/stable/user_guide/indexing.html#returning-a-view-versus-a-copy\n",
      "  truck_df2['frame_id'] = truck_df2['frame_id'].astype(np.int32)\n",
      "/tmp/ipykernel_59516/2141701409.py:13: SettingWithCopyWarning: \n",
      "A value is trying to be set on a copy of a slice from a DataFrame.\n",
      "Try using .loc[row_indexer,col_indexer] = value instead\n",
      "\n",
      "See the caveats in the documentation: https://pandas.pydata.org/pandas-docs/stable/user_guide/indexing.html#returning-a-view-versus-a-copy\n",
      "  van_df2['frame_id'] = van_df2['frame_id'].astype(np.int32)\n"
     ]
    },
    {
     "data": {
      "text/html": [
       "<div>\n",
       "<style scoped>\n",
       "    .dataframe tbody tr th:only-of-type {\n",
       "        vertical-align: middle;\n",
       "    }\n",
       "\n",
       "    .dataframe tbody tr th {\n",
       "        vertical-align: top;\n",
       "    }\n",
       "\n",
       "    .dataframe thead th {\n",
       "        text-align: right;\n",
       "    }\n",
       "</style>\n",
       "<table border=\"1\" class=\"dataframe\">\n",
       "  <thead>\n",
       "    <tr style=\"text-align: right;\">\n",
       "      <th></th>\n",
       "      <th>dist</th>\n",
       "      <th>mesh</th>\n",
       "      <th>bbox_size</th>\n",
       "      <th>frame_id</th>\n",
       "      <th>score</th>\n",
       "    </tr>\n",
       "  </thead>\n",
       "  <tbody>\n",
       "    <tr>\n",
       "      <th>0</th>\n",
       "      <td>54.854212</td>\n",
       "      <td>50.0</td>\n",
       "      <td>5.817201</td>\n",
       "      <td>19898</td>\n",
       "      <td>0.256518</td>\n",
       "    </tr>\n",
       "    <tr>\n",
       "      <th>1</th>\n",
       "      <td>51.760444</td>\n",
       "      <td>148.0</td>\n",
       "      <td>5.817201</td>\n",
       "      <td>19901</td>\n",
       "      <td>0.758546</td>\n",
       "    </tr>\n",
       "    <tr>\n",
       "      <th>3</th>\n",
       "      <td>45.930213</td>\n",
       "      <td>218.0</td>\n",
       "      <td>5.817201</td>\n",
       "      <td>19907</td>\n",
       "      <td>1.109460</td>\n",
       "    </tr>\n",
       "    <tr>\n",
       "      <th>4</th>\n",
       "      <td>42.986280</td>\n",
       "      <td>182.0</td>\n",
       "      <td>5.817201</td>\n",
       "      <td>19910</td>\n",
       "      <td>0.918043</td>\n",
       "    </tr>\n",
       "    <tr>\n",
       "      <th>5</th>\n",
       "      <td>40.465075</td>\n",
       "      <td>296.0</td>\n",
       "      <td>5.817201</td>\n",
       "      <td>19913</td>\n",
       "      <td>1.474107</td>\n",
       "    </tr>\n",
       "  </tbody>\n",
       "</table>\n",
       "</div>"
      ],
      "text/plain": [
       "        dist   mesh  bbox_size  frame_id     score\n",
       "0  54.854212   50.0   5.817201     19898  0.256518\n",
       "1  51.760444  148.0   5.817201     19901  0.758546\n",
       "3  45.930213  218.0   5.817201     19907  1.109460\n",
       "4  42.986280  182.0   5.817201     19910  0.918043\n",
       "5  40.465075  296.0   5.817201     19913  1.474107"
      ]
     },
     "execution_count": 153,
     "metadata": {},
     "output_type": "execute_result"
    }
   ],
   "source": [
    "car_score = function_S2(car_df2['dist'], car_df2['mesh'], car_df2['bbox_size'])\n",
    "truck_score = function_S2(truck_df2['dist'], truck_df2['mesh'], truck_df2['bbox_size'])\n",
    "van_score = function_S2(van_df2['dist'], van_df2['mesh'], van_df2['bbox_size'])\n",
    "\n",
    "# use .loc save the score to a new column, type is np.float64\n",
    "car_df2.loc[:,'score'] = car_score\n",
    "truck_df2.loc[:,'score'] = truck_score\n",
    "van_df2.loc[:,'score'] = van_score\n",
    "\n",
    "# frame_id to type int32\n",
    "car_df2['frame_id'] = car_df2['frame_id'].astype(np.int32)\n",
    "truck_df2['frame_id'] = truck_df2['frame_id'].astype(np.int32)\n",
    "van_df2['frame_id'] = van_df2['frame_id'].astype(np.int32)\n",
    "\n",
    "car_df2.head()"
   ]
  },
  {
   "cell_type": "code",
   "execution_count": 154,
   "metadata": {},
   "outputs": [
    {
     "name": "stdout",
     "output_type": "stream",
     "text": [
      "               dist   mesh  bbox_size     score\n",
      "frame_id                                       \n",
      "19898     54.854212   50.0   5.817201  0.256518\n",
      "19901     51.760444  148.0   5.817201  0.758546\n",
      "19907     45.930213  218.0   5.817201  1.109460\n",
      "19910     42.986280  182.0   5.817201  0.918043\n",
      "19913     40.465075  296.0   5.817201  1.474107\n",
      "[113259 428996 236581 ... 113520 115335 235987]\n"
     ]
    }
   ],
   "source": [
    "car_df3 = car_df2.groupby('frame_id').sum()\n",
    "truck_df3 = truck_df2.groupby('frame_id').sum()\n",
    "van_df3 = van_df2.groupby('frame_id').sum()\n",
    "\n",
    "print(car_df3.head())\n",
    "print(idx_lower)\n",
    "\n",
    "# sum three types vehicle score by frame id, save frame id and score at a new dataframe\n",
    "vehicle_df = pd.DataFrame(columns=['frame_id', 'score'])\n",
    "for frame_id in car_df3.index:\n",
    "    # get score use index\n",
    "    car_score = car_df3.loc[frame_id]['score']\n",
    "    if frame_id in truck_df3.index:\n",
    "        truck_score = truck_df3.loc[frame_id]['score']\n",
    "    else:\n",
    "        truck_score = 0\n",
    "\n",
    "    if frame_id in van_df3.index:\n",
    "        van_score = van_df3.loc[frame_id]['score']\n",
    "    else:\n",
    "        van_score = 0\n",
    "\n",
    "    score = car_score + truck_score + van_score\n",
    "    \n",
    "    new_row = pd.Series({'frame_id': frame_id, 'score': score})\n",
    "    vehicle_df = pd.concat([vehicle_df, new_row.to_frame().T], ignore_index=True)"
   ]
  },
  {
   "cell_type": "code",
   "execution_count": 167,
   "metadata": {},
   "outputs": [
    {
     "name": "stderr",
     "output_type": "stream",
     "text": [
      "/tmp/ipykernel_59516/2683256851.py:2: UserWarning: \n",
      "\n",
      "`distplot` is a deprecated function and will be removed in seaborn v0.14.0.\n",
      "\n",
      "Please adapt your code to use either `displot` (a figure-level function with\n",
      "similar flexibility) or `histplot` (an axes-level function for histograms).\n",
      "\n",
      "For a guide to updating your code to use the new functions, please see\n",
      "https://gist.github.com/mwaskom/de44147ed2974457ad6372750bbe5751\n",
      "\n",
      "  sns.distplot(vehicle_df['score'])\n"
     ]
    },
    {
     "data": {
      "text/plain": [
       "<Axes: xlabel='score', ylabel='Density'>"
      ]
     },
     "execution_count": 167,
     "metadata": {},
     "output_type": "execute_result"
    },
    {
     "data": {
      "image/png": "[encoded data removed]",
      "text/plain": [
       "<Figure size 640x480 with 1 Axes>"
      ]
     },
     "metadata": {},
     "output_type": "display_data"
    }
   ],
   "source": [
    "# visualize the distribution of score\n",
    "sns.distplot(vehicle_df['score'])"
   ]
  },
  {
   "cell_type": "code",
   "execution_count": 171,
   "metadata": {},
   "outputs": [
    {
     "name": "stdout",
     "output_type": "stream",
     "text": [
      "0.0 15.868007309198862\n",
      "S2 spilt 0.35342465753424657\n",
      "S1S2 spilt 0.27689830963241213\n",
      "all frame count 1963\n"
     ]
    }
   ],
   "source": [
    "print(vehicle_df['score'].min(), vehicle_df['score'].max())\n",
    "\n",
    "ratio = len(vehicle_df[vehicle_df['score'] < mertic2]) / len(vehicle_df)\n",
    "print(\"S2 spilt\",ratio)\n",
    "\n",
    "idx_test = vehicle_df[vehicle_df['score'] < mertic2].values\n",
    "\n",
    "idx_test = np.array(idx_test, dtype=np.int32)\n",
    "print(\"S1S2 spilt\", len(idx_test) / len(y_test))\n",
    "\n",
    "print(\"all frame count\", len(train_idx)+ len(idx_test))"
   ]
  },
  {
   "cell_type": "code",
   "execution_count": 156,
   "metadata": {},
   "outputs": [],
   "source": [
    "# frame_id = train_idx + test_idx, write to imageset\n",
    "train_list = train_idx.tolist() + idx_test.tolist()\n",
    "train_list.sort()\n",
    "\n",
    "test_list = []\n",
    "val_list = []\n",
    "test_spilt = 12\n",
    "val_spilt = 15\n",
    "\n",
    "# idx should not has element in empty_file\n",
    "for id in empty_file:\n",
    "    if id in train_list:\n",
    "        train_list.remove(id)\n",
    "\n",
    "train_path = './imagesets/D/train.txt'\n",
    "test_path = './imagesets/D/test.txt'\n",
    "val_path = './imagesets/D/val.txt'\n",
    "\n",
    "\n",
    "for i in range(len(train_list)):\n",
    "    if i % test_spilt == 0:\n",
    "        test_list.append(train_list[i])\n",
    "        train_list[i] = 'none'\n",
    "    if i % val_spilt == 0:\n",
    "        val_list.append(train_list[i])\n",
    "        train_list[i] = 'none'\n",
    "\n",
    "train_list = [x for x in train_list if x != 'none']\n",
    "val_list = [x for x in val_list if x != 'none']\n",
    "\n",
    "with open(train_path, 'w') as f:\n",
    "    for item in train_list:\n",
    "        f.write(\"%s\\n\" % item)\n",
    "\n",
    "with open(test_path, 'w') as f:\n",
    "    for item in test_list:\n",
    "        f.write(\"%s\\n\" % item)\n",
    "\n",
    "with open(val_path, 'w') as f:\n",
    "    for item in val_list:\n",
    "        f.write(\"%s\\n\" % item)"
   ]
  }
 ],
 "metadata": {
  "kernelspec": {
   "display_name": "carla15",
   "language": "python",
   "name": "python3"
  },
  "language_info": {
   "codemirror_mode": {
    "name": "ipython",
    "version": 3
   },
   "file_extension": ".py",
   "mimetype": "text/x-python",
   "name": "python",
   "nbconvert_exporter": "python",
   "pygments_lexer": "ipython3",
   "version": "3.8.18"
  },
  "orig_nbformat": 4
 },
 "nbformat": 4,
 "nbformat_minor": 2
}
