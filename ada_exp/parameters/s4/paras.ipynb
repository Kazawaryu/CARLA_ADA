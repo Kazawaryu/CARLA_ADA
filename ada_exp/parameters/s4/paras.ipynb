{
 "cells": [
  {
   "cell_type": "code",
   "execution_count": 1,
   "metadata": {
    "is_executing": true
   },
   "outputs": [
    {
     "name": "stdout",
     "output_type": "stream",
     "text": [
      "Jupyter environment detected. Enabling Open3D WebVisualizer.\n",
      "[Open3D INFO] WebRTC GUI backend enabled.\n",
      "[Open3D INFO] WebRTCWindowSystem: HTTP handshake server disabled.\n"
     ]
    }
   ],
   "source": [
    "import argparse\n",
    "import glob\n",
    "from pathlib import Path\n",
    "\n",
    "try:\n",
    "    import open3d\n",
    "    from visual_utils import open3d_vis_utils as V\n",
    "    OPEN3D_FLAG = True\n",
    "except:\n",
    "    import mayavi.mlab as mlab\n",
    "    from visual_utils import visualize_utils as V\n",
    "    OPEN3D_FLAG = False\n",
    "\n",
    "import numpy as np\n",
    "import torch\n",
    "import time\n",
    "import demo as demo\n",
    "\n",
    "from pcdet.config import cfg, cfg_from_yaml_file\n",
    "from pcdet.datasets import DatasetTemplate\n",
    "from pcdet.models import build_network, load_data_to_gpu\n",
    "from pcdet.utils import common_utils"
   ]
  },
  {
   "cell_type": "code",
   "execution_count": 2,
   "metadata": {
    "is_executing": true
   },
   "outputs": [
    {
     "name": "stderr",
     "output_type": "stream",
     "text": [
      "2023-12-06 16:52:49,196   INFO  Test to get the VFE params2023-12-06 16:52:49\n"
     ]
    },
    {
     "name": "stdout",
     "output_type": "stream",
     "text": [
      "PillarVFE==================\n",
      "4 [0.16, 0.16, 4] [  0.   -39.68  -3.    69.12  39.68   1.  ]\n",
      "PFN==================\n",
      "10 64 True True\n",
      "SCATTER==========================\n",
      "[432 496   1]\n"
     ]
    },
    {
     "name": "stderr",
     "output_type": "stream",
     "text": [
      "/home/ghosnp/miniconda3/envs/pcdet/lib/python3.8/site-packages/torch/functional.py:445: UserWarning: torch.meshgrid: in an upcoming release, it will be required to pass the indexing argument. (Triggered internally at  ../aten/src/ATen/native/TensorShape.cpp:2157.)\n",
      "  return _VF.meshgrid(tensors, **kwargs)  # type: ignore[attr-defined]\n",
      "2023-12-06 16:52:51,954   INFO  ==> Loading parameters from checkpoint ../self_ckpts/pointpillar_7728.pth to CPU\n",
      "2023-12-06 16:52:51,968   INFO  ==> Done (loaded 127/127)\n"
     ]
    }
   ],
   "source": [
    "ckpt_path = '../self_ckpts/pointpillar_7728.pth'\n",
    "cfg_path = './cfgs/kitti_models/pointpillar.yaml'\n",
    "data_path = '/home/ghosnp/dataset/mini_kitti/velodyne/testing/velodyne/000003.bin'\n",
    "\n",
    "logger = common_utils.create_logger()   # logger.info('xxx')\n",
    "logger.info('Test to get the VFE params' + time.strftime('%Y-%m-%d %H:%M:%S', time.localtime(time.time())))\n",
    "cfg_from_yaml_file(cfg_path, cfg)\n",
    "\n",
    "\n",
    "demo_dataset = demo.DemoDataset(\n",
    "    dataset_cfg=cfg.DATA_CONFIG, class_names=cfg.CLASS_NAMES, training=False,\n",
    "    root_path=Path(data_path), ext='.bin', logger=logger\n",
    ")\n",
    "\n",
    "model = build_network(model_cfg=cfg.MODEL, num_class=len(cfg.CLASS_NAMES), dataset=demo_dataset)\n",
    "model.load_params_from_file(filename=ckpt_path, logger=logger, to_cpu=True)"
   ]
  },
  {
   "cell_type": "code",
   "execution_count": 3,
   "metadata": {
    "is_executing": true
   },
   "outputs": [
    {
     "name": "stdout",
     "output_type": "stream",
     "text": [
      "vfe.pfn_layers.0.linear.weight torch.Size([64, 10])\n",
      "vfe.pfn_layers.0.norm.weight torch.Size([64])\n",
      "vfe.pfn_layers.0.norm.bias torch.Size([64])\n",
      "backbone_2d.blocks.0.1.weight torch.Size([64, 64, 3, 3])\n",
      "backbone_2d.blocks.0.2.weight torch.Size([64])\n",
      "backbone_2d.blocks.0.2.bias torch.Size([64])\n",
      "backbone_2d.blocks.0.4.weight torch.Size([64, 64, 3, 3])\n",
      "backbone_2d.blocks.0.5.weight torch.Size([64])\n",
      "backbone_2d.blocks.0.5.bias torch.Size([64])\n",
      "backbone_2d.blocks.0.7.weight torch.Size([64, 64, 3, 3])\n",
      "backbone_2d.blocks.0.8.weight torch.Size([64])\n",
      "backbone_2d.blocks.0.8.bias torch.Size([64])\n",
      "backbone_2d.blocks.0.10.weight torch.Size([64, 64, 3, 3])\n",
      "backbone_2d.blocks.0.11.weight torch.Size([64])\n",
      "backbone_2d.blocks.0.11.bias torch.Size([64])\n",
      "backbone_2d.blocks.1.1.weight torch.Size([128, 64, 3, 3])\n",
      "backbone_2d.blocks.1.2.weight torch.Size([128])\n",
      "backbone_2d.blocks.1.2.bias torch.Size([128])\n",
      "backbone_2d.blocks.1.4.weight torch.Size([128, 128, 3, 3])\n",
      "backbone_2d.blocks.1.5.weight torch.Size([128])\n",
      "backbone_2d.blocks.1.5.bias torch.Size([128])\n",
      "backbone_2d.blocks.1.7.weight torch.Size([128, 128, 3, 3])\n",
      "backbone_2d.blocks.1.8.weight torch.Size([128])\n",
      "backbone_2d.blocks.1.8.bias torch.Size([128])\n",
      "backbone_2d.blocks.1.10.weight torch.Size([128, 128, 3, 3])\n",
      "backbone_2d.blocks.1.11.weight torch.Size([128])\n",
      "backbone_2d.blocks.1.11.bias torch.Size([128])\n",
      "backbone_2d.blocks.1.13.weight torch.Size([128, 128, 3, 3])\n",
      "backbone_2d.blocks.1.14.weight torch.Size([128])\n",
      "backbone_2d.blocks.1.14.bias torch.Size([128])\n",
      "backbone_2d.blocks.1.16.weight torch.Size([128, 128, 3, 3])\n",
      "backbone_2d.blocks.1.17.weight torch.Size([128])\n",
      "backbone_2d.blocks.1.17.bias torch.Size([128])\n",
      "backbone_2d.blocks.2.1.weight torch.Size([256, 128, 3, 3])\n",
      "backbone_2d.blocks.2.2.weight torch.Size([256])\n",
      "backbone_2d.blocks.2.2.bias torch.Size([256])\n",
      "backbone_2d.blocks.2.4.weight torch.Size([256, 256, 3, 3])\n",
      "backbone_2d.blocks.2.5.weight torch.Size([256])\n",
      "backbone_2d.blocks.2.5.bias torch.Size([256])\n",
      "backbone_2d.blocks.2.7.weight torch.Size([256, 256, 3, 3])\n",
      "backbone_2d.blocks.2.8.weight torch.Size([256])\n",
      "backbone_2d.blocks.2.8.bias torch.Size([256])\n",
      "backbone_2d.blocks.2.10.weight torch.Size([256, 256, 3, 3])\n",
      "backbone_2d.blocks.2.11.weight torch.Size([256])\n",
      "backbone_2d.blocks.2.11.bias torch.Size([256])\n",
      "backbone_2d.blocks.2.13.weight torch.Size([256, 256, 3, 3])\n",
      "backbone_2d.blocks.2.14.weight torch.Size([256])\n",
      "backbone_2d.blocks.2.14.bias torch.Size([256])\n",
      "backbone_2d.blocks.2.16.weight torch.Size([256, 256, 3, 3])\n",
      "backbone_2d.blocks.2.17.weight torch.Size([256])\n",
      "backbone_2d.blocks.2.17.bias torch.Size([256])\n",
      "backbone_2d.deblocks.0.0.weight torch.Size([64, 128, 1, 1])\n",
      "backbone_2d.deblocks.0.1.weight torch.Size([128])\n",
      "backbone_2d.deblocks.0.1.bias torch.Size([128])\n",
      "backbone_2d.deblocks.1.0.weight torch.Size([128, 128, 2, 2])\n",
      "backbone_2d.deblocks.1.1.weight torch.Size([128])\n",
      "backbone_2d.deblocks.1.1.bias torch.Size([128])\n",
      "backbone_2d.deblocks.2.0.weight torch.Size([256, 128, 4, 4])\n",
      "backbone_2d.deblocks.2.1.weight torch.Size([128])\n",
      "backbone_2d.deblocks.2.1.bias torch.Size([128])\n",
      "dense_head.conv_cls.weight torch.Size([18, 384, 1, 1])\n",
      "dense_head.conv_cls.bias torch.Size([18])\n",
      "dense_head.conv_box.weight torch.Size([42, 384, 1, 1])\n",
      "dense_head.conv_box.bias torch.Size([42])\n",
      "dense_head.conv_dir_cls.weight torch.Size([12, 384, 1, 1])\n",
      "dense_head.conv_dir_cls.bias torch.Size([12])\n",
      "(64, 10) (64,) (64,)\n"
     ]
    }
   ],
   "source": [
    "# vfe.pfn_layers.0.linear.weight torch.Size([64, 10])\n",
    "# vfe.pfn_layers.0.norm.weight torch.Size([64])\n",
    "# vfe.pfn_layers.0.norm.bias torch.Size([64])\n",
    "\n",
    "# get the vfe params\n",
    "# vfe_pfn_weight = model.named_parameters().__next__()[1].detach().cpu().numpy()\n",
    "\n",
    "\n",
    "for name, param in model.named_parameters():\n",
    "    print(name, param.shape)\n",
    "    if name == 'vfe.pfn_layers.0.linear.weight':\n",
    "        vfe_pfn_weight = param.detach().cpu().numpy()\n",
    "    elif name == 'vfe.pfn_layers.0.norm.weight':\n",
    "        vfe_pfn_norm_weight = param.detach().cpu().numpy()\n",
    "    elif name == 'vfe.pfn_layers.0.norm.bias':\n",
    "        vfe_pfn_norm_bias = param.detach().cpu().numpy()\n",
    "    else:\n",
    "        pass\n",
    "\n",
    "print(vfe_pfn_weight.shape, vfe_pfn_norm_weight.shape, vfe_pfn_norm_bias.shape)\n"
   ]
  },
  {
   "cell_type": "code",
   "execution_count": 11,
   "metadata": {
    "is_executing": true
   },
   "outputs": [
    {
     "name": "stdout",
     "output_type": "stream",
     "text": [
      "PILLAR FEATURES=====================\n",
      "torch.Size([8494, 64])\n",
      "SPATIAL FEATURES=====================\n",
      "torch.Size([1, 64, 496, 432])\n",
      "0 torch.Size([8494, 64])\n",
      "INFOS\n",
      "torch.Size([1, 64, 496, 432])\n",
      "torch.Size([1, 384, 248, 216])\n",
      "[{'pred_boxes': tensor([[16.9990,  3.7984, -0.9429,  4.4218,  1.6759,  1.4718,  6.2595],\n",
      "        [ 5.3099, 11.3921, -1.2433,  3.5853,  1.5457,  1.4378,  3.1575],\n",
      "        [30.8133, -0.5729, -0.7571,  4.3241,  1.6616,  1.5736,  6.2604],\n",
      "        [53.2946,  2.0208, -0.4022,  3.9298,  1.6297,  1.5902,  6.1712],\n",
      "        [53.3183, -2.7357, -0.4548,  3.8728,  1.5616,  1.6064,  6.0431],\n",
      "        [18.7330, 15.5931, -1.3265,  4.4662,  1.6952,  1.5360,  6.3886],\n",
      "        [ 0.6563, -0.5786, -1.1316,  4.1750,  1.6669,  1.5610,  6.0350],\n",
      "        [64.3181,  8.4915, -0.4889,  4.0612,  1.5960,  1.5436,  6.2763]],\n",
      "       device='cuda:0'), 'pred_scores': tensor([0.9588, 0.9466, 0.9179, 0.5074, 0.4411, 0.3232, 0.1731, 0.1461],\n",
      "       device='cuda:0'), 'pred_labels': tensor([1, 1, 1, 1, 1, 1, 1, 1], device='cuda:0')}]\n"
     ]
    }
   ],
   "source": [
    "from pcdet.models.backbones_3d.vfe import pillar_vfe as VFE\n",
    "\n",
    "\n",
    "# points\n",
    "# frame_id\n",
    "# lidar_aug_matrix\n",
    "# use_lead_xyz\n",
    "# voxels\n",
    "# voxel_coords\n",
    "# voxel_num_points\n",
    "# batch_size\n",
    "# pillar_features\n",
    "# spatial_features\n",
    "# spatial_features_2d\n",
    "# batch_cls_preds\n",
    "# batch_box_preds\n",
    "# cls_preds_normalized\n",
    "\n",
    "\n",
    "model.cuda()\n",
    "model.eval()\n",
    "\n",
    "with torch.no_grad():\n",
    "    for idx, data_dict in enumerate(demo_dataset):\n",
    "        data_dict = demo_dataset.collate_batch([data_dict])\n",
    "        load_data_to_gpu(data_dict)\n",
    "        pred_dicts, _ = model.forward(data_dict)\n",
    "        print(idx,data_dict['pillar_features'].shape)\n",
    "\n",
    "print('INFOS')\n",
    "print(data_dict['spatial_features'].shape)\n",
    "print(data_dict['spatial_features_2d'].shape)\n",
    "\n",
    "print(pred_dicts)"
   ]
  }
 ],
 "metadata": {
  "kernelspec": {
   "display_name": "pcdet",
   "language": "python",
   "name": "python3"
  },
  "language_info": {
   "codemirror_mode": {
    "name": "ipython",
    "version": 3
   },
   "file_extension": ".py",
   "mimetype": "text/x-python",
   "name": "python",
   "nbconvert_exporter": "python",
   "pygments_lexer": "ipython3",
   "version": "3.8.18"
  }
 },
 "nbformat": 4,
 "nbformat_minor": 2
}
